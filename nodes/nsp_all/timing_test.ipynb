{
 "cells": [
  {
   "cell_type": "code",
   "execution_count": 48,
   "metadata": {},
   "outputs": [],
   "source": [
    "%load_ext autoreload\n",
    "%autoreload 2"
   ]
  },
  {
   "cell_type": "code",
   "execution_count": 50,
   "metadata": {},
   "outputs": [],
   "source": [
    "from nsp_all import NSP_all\n",
    "import matplotlib.pyplot as plt\n",
    "import numpy as np"
   ]
  },
  {
   "cell_type": "code",
   "execution_count": 3,
   "metadata": {
    "scrolled": true
   },
   "outputs": [
    {
     "name": "stderr",
     "output_type": "stream",
     "text": [
      "[nsp_alll] INFO: Coefficients entry found in Redis stream: rereference_parameters\n",
      "[nsp_alll] INFO: Unshuffling matrix loaded from stream.\n",
      "[nsp_alll] WARNING: 'ch_mask_stream' was set to z_mask_stream, but there were no entries. Defaulting to using all channels\n",
      "[nsp_alll] INFO: Loading 4 order, 250 hz highpass acausal IIR-IIR filter\n",
      "[nsp_alll] INFO: Loaded thresholds from the thresholds stream\n"
     ]
    },
    {
     "name": "stdout",
     "output_type": "stream",
     "text": [
      "[nsp_alll] Redis connection established on host: 192.168.30.6, port: 27263\n"
     ]
    }
   ],
   "source": [
    "import sys\n",
    "sys.argv = ['tx', '-n', 'nsp_alll', '-i', '192.168.30.6', '-p', '27263']\n",
    "\n",
    "params = {\n",
    "    \"input_stream\": \"nsp_neural\",\n",
    "    \"output_reref_stream\": False,\n",
    "    \"reref_maxlen\": 2000,\n",
    "    \"coefs_stream_name\": \"rereference_parameters\",\n",
    "    \"reref_stream_idx\": 0,\n",
    "    \"thresh_cross_stream_idx\": 1,\n",
    "    \"band_power_stream_idx\": 2,\n",
    "    \"binned_spikes_stream_idx\": 3,\n",
    "    \"output_streams\": [\"reref_neural_a\", \"thresh_cross_a\", \"sbp_a\", \"binned_spikes_a\"],\n",
    "    \"sync_key\": [\"tracking_id\", \"sync\", \"sync\", \"sync\"],\n",
    "    \"ts_key\": [\"BRANDS_time\", \"ts\", \"ts\", \"ts\"],\n",
    "    \"use_tracking_id\": True,\n",
    "    \"td_type\": \"uint64\",\n",
    "    \"sync_dict_key\": \"nsp_idx_1\",\n",
    "    \"filt_stream\": None,\n",
    "    \"adaptive_rms_stream\": None,\n",
    "    \"pack_per_call\": 1,\n",
    "    \"thresh_mult\": -4.5,\n",
    "    \"thresh_calc_len\": 2000,\n",
    "    \"butter_lowercut\": 250,\n",
    "    \"butter_uppercut\": None,\n",
    "    \"butter_order\": 4,\n",
    "    \"enable_CAR\": False,\n",
    "    \"output_filtered\": False,\n",
    "    \"acausal_filter_lag\": 120,\n",
    "    \"acausal_filter\": \"IIR\",\n",
    "    \"ch_mask_stream\": \"z_mask_stream\",\n",
    "    \"bandpower_logscale\": False,\n",
    "    \"chan_per_stream\": 256,  # Preserved as string since it's a reference\n",
    "    \"samp_per_stream\": 30,\n",
    "    \"chan_total\": 256,  # Preserved as string since it's a reference\n",
    "    \"start_channel\": 0,\n",
    "    \"samp_freq\": 30000,\n",
    "    \"output_dtype\": \"float32\",\n",
    "    \"total_channels\": \"*total_features\",  # Preserved as string since it's a reference\n",
    "    \"bin_size\": 10,\n",
    "    \"bin_enable\": True\n",
    "}\n",
    "\n",
    "node = NSP_all(params)"
   ]
  },
  {
   "cell_type": "code",
   "execution_count": 5,
   "metadata": {},
   "outputs": [
    {
     "name": "stdout",
     "output_type": "stream",
     "text": [
      "\n",
      "Timing Statistics (in milliseconds):\n",
      "--------------------------------------------------------------------------------\n",
      "Operation                            Mean        Min        Max      Count\n",
      "--------------------------------------------------------------------------------\n",
      "INIT                                8.757      8.757      8.757          1\n",
      "Redis read                          0.475      0.075      1.747      67557\n",
      "Re-referencing                      0.101      0.099      0.237      67557\n",
      "Filtering                           0.262      0.253      0.724      67553\n",
      "Threshold crossing                  0.021      0.019      0.278      67553\n",
      "Spike band power                    0.004      0.004      0.050      67553\n",
      "Total Exec Time                     0.445      0.429      0.997      67553\n",
      "Redis write                         0.132      0.113      0.683      67553\n",
      "Total Time                          1.000      0.582      2.279      67553\n",
      "Binning                             0.002      0.001      0.007       6755\n",
      "Total Binning Time                 10.000      8.972     13.939       6755\n"
     ]
    }
   ],
   "source": [
    "node.profiler.print_stats()"
   ]
  },
  {
   "cell_type": "code",
   "execution_count": null,
   "metadata": {},
   "outputs": [],
   "source": [
    "node.run()"
   ]
  },
  {
   "cell_type": "code",
   "execution_count": null,
   "metadata": {},
   "outputs": [],
   "source": []
  },
  {
   "cell_type": "markdown",
   "metadata": {},
   "source": [
    "# verify data between new node and old streams"
   ]
  },
  {
   "cell_type": "code",
   "execution_count": 19,
   "metadata": {},
   "outputs": [],
   "source": [
    "import json\n",
    "import os\n",
    "import numpy as np\n",
    "import pandas as pd\n",
    "from brand.redis import RedisLoggingHandler\n",
    "from brand.timing import timespec_to_timestamp\n",
    "import matplotlib.pyplot as plt\n",
    "import seaborn as sns\n",
    "import gc\n",
    "import logging\n",
    "import time\n",
    "\n",
    "from redis import ConnectionError, Redis\n",
    "from brand import BRANDNode\n",
    "from brand.redis import xread_sync\n",
    "from threading import Timer"
   ]
  },
  {
   "cell_type": "code",
   "execution_count": 2,
   "metadata": {},
   "outputs": [],
   "source": [
    "\n",
    "\n",
    "NAME = \"timing_plots\"\n",
    "redis_host = '192.168.30.6'\n",
    "redis_port = 27263\n",
    "redis_socket = 10\n",
    "\n",
    "r = Redis(redis_host, redis_port, retry_on_timeout=True)\n",
    "r.ping()\n",
    "\n",
    "supergraph_entry = r.xrevrange(b'supergraph_stream', '+', '-', 1)[0]"
   ]
  },
  {
   "cell_type": "code",
   "execution_count": 4,
   "metadata": {},
   "outputs": [
    {
     "name": "stdout",
     "output_type": "stream",
     "text": [
      "5715 5716\n"
     ]
    }
   ],
   "source": [
    "# n_entries = r.xlen(\"reref_neural_all\")\n",
    "print(r.xlen(\"binned_spikes\"),r.xlen(\"binned_spikes_all\"))"
   ]
  },
  {
   "cell_type": "code",
   "execution_count": 47,
   "metadata": {},
   "outputs": [],
   "source": [
    "rn_all = r.xread({\"reref_neural_all\": b'0-0'}, count=1000)[0][1]\n",
    "rn_old = r.xread({\"reref_neural\": b'0-0'}, count=1000)[0][1]\n",
    "txa = r.xread({\"thresh_cross\": b'0-0'}, count=1000)[0][1]\n",
    "tx4 = r.xread({\"thresh_cross_4\": b'0-0'}, count=1000)[0][1]\n",
    "sba = r.xread({\"sbp\": b'0-0'}, count=1000)[0][1]\n",
    "sb4 = r.xread({\"sbp_3\": b'0-0'}, count=1000)[0][1]\n",
    "bs4 = r.xread({\"binned_spikes\": b'0-0'}, count=1000)[0][1]\n",
    "bsa = r.xread({\"binned_spikes_all\": b'0-0'}, count=1000)[0][1]"
   ]
  },
  {
   "cell_type": "code",
   "execution_count": null,
   "metadata": {},
   "outputs": [],
   "source": [
    "# verify reref_neural\n",
    "for i in range(10000-100):\n",
    "    if not rn_all[i][1][b'samples']==rn_old[i+4][1][b'samples']:\n",
    "        print(0)"
   ]
  },
  {
   "cell_type": "code",
   "execution_count": 28,
   "metadata": {},
   "outputs": [],
   "source": [
    "input_streams= [\"thresh_cross_4\", \"sbp_3\"]\n",
    "stream_dict = {name.encode(): '$' for name in input_streams}\n",
    "streams = xread_sync(r,stream_dict,block=0,\n",
    "                        sync_field=b'timestamps',\n",
    "                        sync_dtype='uint64',\n",
    "                        count=10)\n",
    "in_field={b\"thresh_cross_4\":b\"crossings\", b\"sbp_3\":b\"samples\"}\n",
    "in_dtype={b\"thresh_cross_4\":np.dtype(\"int16\"), b\"sbp_3\":np.dtype(\"float32\")}\n",
    "window =np.zeros((256,10),dtype=np.float32)\n",
    "\n",
    "\n",
    "sync_entries = []\n",
    "sync_entries_stream_dump={}\n",
    "for stream in streams:\n",
    "    stream_name, stream_entries = stream\n",
    "    field = in_field[stream_name]\n",
    "    in_type = in_dtype[stream_name]\n",
    "    sync_entries_stream = []\n",
    "    synx=[]\n",
    "    for i, (entry_id, entry_dict) in enumerate(stream_entries):\n",
    "        # load the input\n",
    "        window[:, i] = np.frombuffer(entry_dict[field],\n",
    "                                            dtype=in_type).astype(\n",
    "                                                'float32')\n",
    "        # log sync for this entry\n",
    "        sync_entries_stream.append(\n",
    "            json.loads(entry_dict[b'sync'].decode()))\n",
    "        synx.append(json.loads(entry_dict[b'sync'].decode()))\n",
    "    sync_entries_stream_dump[stream_name.decode()]=synx\n",
    "    sync_entries.append(sync_entries_stream)\n",
    "    # update the xread ID\n",
    "    stream_dict[stream_name] = entry_id\n",
    "\n",
    "# create sync dict from sync entries from input streams\n",
    "sync_dict = {}\n",
    "for stream in sync_entries:\n",
    "    sync_entry_dict = stream[0]  # first entry from each stream\n",
    "    for key in sync_entry_dict:\n",
    "        sync_dict[key] = sync_entry_dict[key]\n",
    "sync_dict_json = json.dumps(sync_dict)"
   ]
  },
  {
   "cell_type": "code",
   "execution_count": 46,
   "metadata": {},
   "outputs": [
    {
     "name": "stdout",
     "output_type": "stream",
     "text": [
      "995\n"
     ]
    }
   ],
   "source": [
    "# verify threshold crossing and binned threshould_crossing\n",
    "\n",
    "cnt=0\n",
    "for i in range(1000):\n",
    "    idx,tx4_data =tx4[i]\n",
    "    idx,txa_data = txa[i]\n",
    "    idx,sb4_data =sb4[i]\n",
    "    idx,sba_data = sba[i]\n",
    "    idx,bs4_data =bs4[i]\n",
    "    idx,bsa_data = bsa[i]\n",
    "    p4=np.frombuffer(sb4_data[b'samples'],dtype=np.float32)\n",
    "    pa=np.frombuffer(sba_data[b'samples'],dtype=np.float32)\n",
    "    c4=np.frombuffer(tx4_data[b'crossings'],dtype=np.int16)\n",
    "    ca=np.frombuffer(txa_data[b'crossings'],dtype=np.int16)\n",
    "    b4=np.frombuffer(bs4_data[b'samples'],dtype=np.float32)[:256]\n",
    "    ba=np.frombuffer(bsa_data[b'samples'],dtype=np.float32)[:256]\n",
    "    if np.all(np.isclose(b4,ba)) and not np.all(np.isclose(p4,pa)) and np.all(np.isclose(c4,ca)):cnt+=1\n",
    "if cnt:\n",
    "    print(cnt)"
   ]
  },
  {
   "cell_type": "code",
   "execution_count": null,
   "metadata": {},
   "outputs": [],
   "source": [
    "buffer_num=0\n",
    "cross_bin_buffer4 = np.zeros((256,10),np.int16)\n",
    "cross_bin_buffera = np.zeros((256,10),np.int16)\n",
    "ak=5\n",
    "for i in range(10):\n",
    "\n",
    "    cross_bin_buffer4[:, i] = np.frombuffer(tx4[5+i][1][b'crossings'],dtype=np.int16)\n",
    "    cross_bin_buffera[:, i] = np.frombuffer(txa[+i][1][b'crossings'],dtype=np.int16)\n",
    "\n",
    "\n",
    "aa=cross_bin_buffera.sum(axis=1)\n",
    "ba=np.frombuffer(bsa[1][1][b'samples'],dtype=np.float32)[:256]\n",
    "\n",
    "a4=cross_bin_buffer4.sum(axis=1)\n",
    "b4=np.frombuffer(bs4[0][1][b'samples'],dtype=np.float32)[:256]\n",
    "\n",
    "print(np.all(aa==ba),np.all(a4==b4),np.all(aa==a4),np.all(ba==b4))"
   ]
  },
  {
   "cell_type": "code",
   "execution_count": null,
   "metadata": {},
   "outputs": [],
   "source": []
  },
  {
   "cell_type": "markdown",
   "metadata": {},
   "source": [
    "Timing Statistics (in milliseconds):\n",
    "--------------------------------------------------------------------------------\n",
    "Operation                            Mean        Min        Max      Count\n",
    "--------------------------------------------------------------------------------\n",
    "INIT                               13.231     13.231     13.231          1\n",
    "Redis read                          0.141      0.071      4.358     134727\n",
    "Re-referencing                      0.155      0.150      0.326     134727\n",
    "Filtering                           0.261      0.251      1.021     134717\n",
    "Threshold crossing                  0.287      0.274      0.458     134717\n",
    "Spike band power                    0.004      0.003      0.027     134717\n",
    "Total Exec Time                     0.760      0.733      1.659     134717\n",
    "Redis write                         0.148      0.108      0.837     134717\n",
    "Total Time                          1.000      0.884      5.228     134717\n",
    "Binning                             0.002      0.001      0.022      13470\n",
    "Total Binning Time                 10.001      9.208     15.749      13470"
   ]
  },
  {
   "cell_type": "code",
   "execution_count": 12,
   "metadata": {},
   "outputs": [
    {
     "name": "stdout",
     "output_type": "stream",
     "text": [
      "\n",
      "Timing Statistics (in milliseconds):\n",
      "--------------------------------------------------------------------------------\n",
      "Operation                            Mean        Min        Max      Count\n",
      "--------------------------------------------------------------------------------\n",
      "INIT                               13.231     13.231     13.231          1\n",
      "Redis read                          0.141      0.071      4.358     134727\n",
      "Re-referencing                      0.155      0.150      0.326     134727\n",
      "Filtering                           0.261      0.251      1.021     134717\n",
      "Threshold crossing                  0.287      0.274      0.458     134717\n",
      "Spike band power                    0.004      0.003      0.027     134717\n",
      "Total Exec Time                     0.760      0.733      1.659     134717\n",
      "Redis write                         0.148      0.108      0.837     134717\n",
      "Total Time                          1.000      0.884      5.228     134717\n",
      "Binning                             0.002      0.001      0.022      13470\n",
      "Total Binning Time                 10.001      9.208     15.749      13470\n"
     ]
    }
   ],
   "source": [
    "##NUMBA thresh\n",
    "node.profiler.print_stats()"
   ]
  }
 ],
 "metadata": {
  "kernelspec": {
   "display_name": "rt",
   "language": "python",
   "name": "python3"
  },
  "language_info": {
   "codemirror_mode": {
    "name": "ipython",
    "version": 3
   },
   "file_extension": ".py",
   "mimetype": "text/x-python",
   "name": "python",
   "nbconvert_exporter": "python",
   "pygments_lexer": "ipython3",
   "version": "3.8.2"
  }
 },
 "nbformat": 4,
 "nbformat_minor": 4
}
