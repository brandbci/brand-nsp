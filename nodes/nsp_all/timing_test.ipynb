{
 "cells": [
  {
   "cell_type": "code",
   "execution_count": 1,
   "metadata": {},
   "outputs": [],
   "source": [
    "%load_ext autoreload\n",
    "%autoreload 2"
   ]
  },
  {
   "cell_type": "code",
   "execution_count": 2,
   "metadata": {},
   "outputs": [
    {
     "name": "stderr",
     "output_type": "stream",
     "text": [
      "/home/pdeevi/Projects/emory-cart/brand-modules/brand-nsp/nodes/nsp_all/helper.py:26: NumbaPerformanceWarning: np.dot() is faster on contiguous arrays, called on (Array(float32, 2, 'A', False, aligned=True), Array(float32, 2, 'A', False, aligned=True))\n",
      "  neural_data_reref[i:end_idx,:] = np.dot(coefs[i:end_idx,:], neural_data[:])\n",
      "Matplotlib created a temporary config/cache directory at /tmp/matplotlib-_8utc8dy because the default path (/home/pdeevi/.config/matplotlib) is not a writable directory; it is highly recommended to set the MPLCONFIGDIR environment variable to a writable directory, in particular to speed up the import of Matplotlib and to better support multiprocessing.\n"
     ]
    }
   ],
   "source": [
    "from nsp_all import NSP_all\n",
    "import matplotlib.pyplot as plt\n",
    "import numpy as np"
   ]
  },
  {
   "cell_type": "code",
   "execution_count": 3,
   "metadata": {
    "scrolled": true
   },
   "outputs": [
    {
     "name": "stderr",
     "output_type": "stream",
     "text": [
      "[nsp_alll] INFO: Coefficients entry found in Redis stream: rereference_parameters\n",
      "[nsp_alll] INFO: Unshuffling matrix loaded from stream.\n",
      "[nsp_alll] WARNING: 'ch_mask_stream' was set to z_mask_stream, but there were no entries. Defaulting to using all channels\n",
      "[nsp_alll] INFO: Loading 4 order, 250 hz highpass acausal IIR-IIR filter\n",
      "[nsp_alll] INFO: Loaded thresholds from the thresholds stream\n"
     ]
    },
    {
     "name": "stdout",
     "output_type": "stream",
     "text": [
      "[nsp_alll] Redis connection established on host: 192.168.30.6, port: 27263\n"
     ]
    }
   ],
   "source": [
    "import sys\n",
    "sys.argv = ['tx', '-n', 'nsp_alll', '-i', '192.168.30.6', '-p', '27263']\n",
    "\n",
    "params = {\n",
    "    \"input_stream\": \"nsp_neural\",\n",
    "    \"output_reref_stream\": False,\n",
    "    \"reref_maxlen\": 2000,\n",
    "    \"coefs_stream_name\": \"rereference_parameters\",\n",
    "    \"reref_stream_idx\": 0,\n",
    "    \"thresh_cross_stream_idx\": 1,\n",
    "    \"band_power_stream_idx\": 2,\n",
    "    \"binned_spikes_stream_idx\": 3,\n",
    "    \"output_streams\": [\"reref_neural_a\", \"thresh_cross_a\", \"sbp_a\", \"binned_spikes_a\"],\n",
    "    \"sync_key\": [\"tracking_id\", \"sync\", \"sync\", \"sync\"],\n",
    "    \"ts_key\": [\"BRANDS_time\", \"ts\", \"ts\", \"ts\"],\n",
    "    \"use_tracking_id\": True,\n",
    "    \"td_type\": \"uint64\",\n",
    "    \"sync_dict_key\": \"nsp_idx_1\",\n",
    "    \"filt_stream\": None,\n",
    "    \"adaptive_rms_stream\": None,\n",
    "    \"pack_per_call\": 1,\n",
    "    \"thresh_mult\": -4.5,\n",
    "    \"thresh_calc_len\": 2000,\n",
    "    \"butter_lowercut\": 250,\n",
    "    \"butter_uppercut\": None,\n",
    "    \"butter_order\": 4,\n",
    "    \"enable_CAR\": False,\n",
    "    \"output_filtered\": False,\n",
    "    \"acausal_filter_lag\": 120,\n",
    "    \"acausal_filter\": \"IIR\",\n",
    "    \"ch_mask_stream\": \"z_mask_stream\",\n",
    "    \"bandpower_logscale\": False,\n",
    "    \"chan_per_stream\": 256,  # Preserved as string since it's a reference\n",
    "    \"samp_per_stream\": 30,\n",
    "    \"chan_total\": 256,  # Preserved as string since it's a reference\n",
    "    \"start_channel\": 0,\n",
    "    \"samp_freq\": 30000,\n",
    "    \"output_dtype\": \"float32\",\n",
    "    \"total_channels\": \"*total_features\",  # Preserved as string since it's a reference\n",
    "    \"bin_size\": 10,\n",
    "    \"bin_enable\": True\n",
    "}\n",
    "\n",
    "node = NSP_all(params)"
   ]
  },
  {
   "cell_type": "code",
   "execution_count": 5,
   "metadata": {},
   "outputs": [
    {
     "name": "stdout",
     "output_type": "stream",
     "text": [
      "\n",
      "Timing Statistics (in milliseconds):\n",
      "--------------------------------------------------------------------------------\n",
      "Operation                            Mean        Min        Max      Count\n",
      "--------------------------------------------------------------------------------\n",
      "INIT                                8.757      8.757      8.757          1\n",
      "Redis read                          0.475      0.075      1.747      67557\n",
      "Re-referencing                      0.101      0.099      0.237      67557\n",
      "Filtering                           0.262      0.253      0.724      67553\n",
      "Threshold crossing                  0.021      0.019      0.278      67553\n",
      "Spike band power                    0.004      0.004      0.050      67553\n",
      "Total Exec Time                     0.445      0.429      0.997      67553\n",
      "Redis write                         0.132      0.113      0.683      67553\n",
      "Total Time                          1.000      0.582      2.279      67553\n",
      "Binning                             0.002      0.001      0.007       6755\n",
      "Total Binning Time                 10.000      8.972     13.939       6755\n"
     ]
    }
   ],
   "source": [
    "node.profiler.print_stats()"
   ]
  },
  {
   "cell_type": "code",
   "execution_count": 4,
   "metadata": {},
   "outputs": [
    {
     "ename": "KeyboardInterrupt",
     "evalue": "",
     "output_type": "error",
     "traceback": [
      "\u001b[0;31m---------------------------------------------------------------------------\u001b[0m",
      "\u001b[0;31mKeyboardInterrupt\u001b[0m                         Traceback (most recent call last)",
      "\u001b[0;32m<ipython-input-4-2e1d716ff0f7>\u001b[0m in \u001b[0;36m<module>\u001b[0;34m\u001b[0m\n\u001b[0;32m----> 1\u001b[0;31m \u001b[0mnode\u001b[0m\u001b[0;34m.\u001b[0m\u001b[0mrun\u001b[0m\u001b[0;34m(\u001b[0m\u001b[0;34m)\u001b[0m\u001b[0;34m\u001b[0m\u001b[0;34m\u001b[0m\u001b[0m\n\u001b[0m",
      "\u001b[0;32m~/Projects/emory-cart/brand-modules/brand-nsp/nodes/nsp_all/nsp_all.py\u001b[0m in \u001b[0;36mrun\u001b[0;34m(self)\u001b[0m\n\u001b[1;32m    610\u001b[0m             \u001b[0mt0\u001b[0m \u001b[0;34m=\u001b[0m \u001b[0mtime\u001b[0m\u001b[0;34m.\u001b[0m\u001b[0mperf_counter\u001b[0m\u001b[0;34m(\u001b[0m\u001b[0;34m)\u001b[0m\u001b[0;34m\u001b[0m\u001b[0;34m\u001b[0m\u001b[0m\n\u001b[1;32m    611\u001b[0m             \u001b[0mt_start\u001b[0m \u001b[0;34m=\u001b[0m\u001b[0mtime\u001b[0m\u001b[0;34m.\u001b[0m\u001b[0mperf_counter\u001b[0m\u001b[0;34m(\u001b[0m\u001b[0;34m)\u001b[0m\u001b[0;34m\u001b[0m\u001b[0;34m\u001b[0m\u001b[0m\n\u001b[0;32m--> 612\u001b[0;31m             xread_receive = self.r.xread(\n\u001b[0m\u001b[1;32m    613\u001b[0m                 \u001b[0;34m{\u001b[0m\u001b[0mself\u001b[0m\u001b[0;34m.\u001b[0m\u001b[0minput_stream\u001b[0m\u001b[0;34m:\u001b[0m \u001b[0minput_id\u001b[0m\u001b[0;34m}\u001b[0m\u001b[0;34m,\u001b[0m \u001b[0mblock\u001b[0m\u001b[0;34m=\u001b[0m\u001b[0mtimeout\u001b[0m\u001b[0;34m,\u001b[0m \u001b[0mcount\u001b[0m\u001b[0;34m=\u001b[0m\u001b[0;36m1\u001b[0m\u001b[0;34m\u001b[0m\u001b[0;34m\u001b[0m\u001b[0m\n\u001b[1;32m    614\u001b[0m             )\n",
      "\u001b[0;32m~/lib/miniconda3/envs/rt/lib/python3.8/site-packages/redis/client.py\u001b[0m in \u001b[0;36mxread\u001b[0;34m(self, streams, count, block)\u001b[0m\n\u001b[1;32m   2571\u001b[0m         \u001b[0mpieces\u001b[0m\u001b[0;34m.\u001b[0m\u001b[0mextend\u001b[0m\u001b[0;34m(\u001b[0m\u001b[0mkeys\u001b[0m\u001b[0;34m)\u001b[0m\u001b[0;34m\u001b[0m\u001b[0;34m\u001b[0m\u001b[0m\n\u001b[1;32m   2572\u001b[0m         \u001b[0mpieces\u001b[0m\u001b[0;34m.\u001b[0m\u001b[0mextend\u001b[0m\u001b[0;34m(\u001b[0m\u001b[0mvalues\u001b[0m\u001b[0;34m)\u001b[0m\u001b[0;34m\u001b[0m\u001b[0;34m\u001b[0m\u001b[0m\n\u001b[0;32m-> 2573\u001b[0;31m         \u001b[0;32mreturn\u001b[0m \u001b[0mself\u001b[0m\u001b[0;34m.\u001b[0m\u001b[0mexecute_command\u001b[0m\u001b[0;34m(\u001b[0m\u001b[0;34m'XREAD'\u001b[0m\u001b[0;34m,\u001b[0m \u001b[0;34m*\u001b[0m\u001b[0mpieces\u001b[0m\u001b[0;34m)\u001b[0m\u001b[0;34m\u001b[0m\u001b[0;34m\u001b[0m\u001b[0m\n\u001b[0m\u001b[1;32m   2574\u001b[0m \u001b[0;34m\u001b[0m\u001b[0m\n\u001b[1;32m   2575\u001b[0m     def xreadgroup(self, groupname, consumername, streams, count=None,\n",
      "\u001b[0;32m~/lib/miniconda3/envs/rt/lib/python3.8/site-packages/redis/client.py\u001b[0m in \u001b[0;36mexecute_command\u001b[0;34m(self, *args, **options)\u001b[0m\n\u001b[1;32m    899\u001b[0m         \u001b[0;32mtry\u001b[0m\u001b[0;34m:\u001b[0m\u001b[0;34m\u001b[0m\u001b[0;34m\u001b[0m\u001b[0m\n\u001b[1;32m    900\u001b[0m             \u001b[0mconn\u001b[0m\u001b[0;34m.\u001b[0m\u001b[0msend_command\u001b[0m\u001b[0;34m(\u001b[0m\u001b[0;34m*\u001b[0m\u001b[0margs\u001b[0m\u001b[0;34m)\u001b[0m\u001b[0;34m\u001b[0m\u001b[0;34m\u001b[0m\u001b[0m\n\u001b[0;32m--> 901\u001b[0;31m             \u001b[0;32mreturn\u001b[0m \u001b[0mself\u001b[0m\u001b[0;34m.\u001b[0m\u001b[0mparse_response\u001b[0m\u001b[0;34m(\u001b[0m\u001b[0mconn\u001b[0m\u001b[0;34m,\u001b[0m \u001b[0mcommand_name\u001b[0m\u001b[0;34m,\u001b[0m \u001b[0;34m**\u001b[0m\u001b[0moptions\u001b[0m\u001b[0;34m)\u001b[0m\u001b[0;34m\u001b[0m\u001b[0;34m\u001b[0m\u001b[0m\n\u001b[0m\u001b[1;32m    902\u001b[0m         \u001b[0;32mexcept\u001b[0m \u001b[0;34m(\u001b[0m\u001b[0mConnectionError\u001b[0m\u001b[0;34m,\u001b[0m \u001b[0mTimeoutError\u001b[0m\u001b[0;34m)\u001b[0m \u001b[0;32mas\u001b[0m \u001b[0me\u001b[0m\u001b[0;34m:\u001b[0m\u001b[0;34m\u001b[0m\u001b[0;34m\u001b[0m\u001b[0m\n\u001b[1;32m    903\u001b[0m             \u001b[0mconn\u001b[0m\u001b[0;34m.\u001b[0m\u001b[0mdisconnect\u001b[0m\u001b[0;34m(\u001b[0m\u001b[0;34m)\u001b[0m\u001b[0;34m\u001b[0m\u001b[0;34m\u001b[0m\u001b[0m\n",
      "\u001b[0;32m~/lib/miniconda3/envs/rt/lib/python3.8/site-packages/redis/client.py\u001b[0m in \u001b[0;36mparse_response\u001b[0;34m(self, connection, command_name, **options)\u001b[0m\n\u001b[1;32m    913\u001b[0m         \u001b[0;34m\"Parses a response from the Redis server\"\u001b[0m\u001b[0;34m\u001b[0m\u001b[0;34m\u001b[0m\u001b[0m\n\u001b[1;32m    914\u001b[0m         \u001b[0;32mtry\u001b[0m\u001b[0;34m:\u001b[0m\u001b[0;34m\u001b[0m\u001b[0;34m\u001b[0m\u001b[0m\n\u001b[0;32m--> 915\u001b[0;31m             \u001b[0mresponse\u001b[0m \u001b[0;34m=\u001b[0m \u001b[0mconnection\u001b[0m\u001b[0;34m.\u001b[0m\u001b[0mread_response\u001b[0m\u001b[0;34m(\u001b[0m\u001b[0;34m)\u001b[0m\u001b[0;34m\u001b[0m\u001b[0;34m\u001b[0m\u001b[0m\n\u001b[0m\u001b[1;32m    916\u001b[0m         \u001b[0;32mexcept\u001b[0m \u001b[0mResponseError\u001b[0m\u001b[0;34m:\u001b[0m\u001b[0;34m\u001b[0m\u001b[0;34m\u001b[0m\u001b[0m\n\u001b[1;32m    917\u001b[0m             \u001b[0;32mif\u001b[0m \u001b[0mEMPTY_RESPONSE\u001b[0m \u001b[0;32min\u001b[0m \u001b[0moptions\u001b[0m\u001b[0;34m:\u001b[0m\u001b[0;34m\u001b[0m\u001b[0;34m\u001b[0m\u001b[0m\n",
      "\u001b[0;32m~/lib/miniconda3/envs/rt/lib/python3.8/site-packages/redis/connection.py\u001b[0m in \u001b[0;36mread_response\u001b[0;34m(self)\u001b[0m\n\u001b[1;32m    737\u001b[0m         \u001b[0;34m\"Read the response from a previously sent command\"\u001b[0m\u001b[0;34m\u001b[0m\u001b[0;34m\u001b[0m\u001b[0m\n\u001b[1;32m    738\u001b[0m         \u001b[0;32mtry\u001b[0m\u001b[0;34m:\u001b[0m\u001b[0;34m\u001b[0m\u001b[0;34m\u001b[0m\u001b[0m\n\u001b[0;32m--> 739\u001b[0;31m             \u001b[0mresponse\u001b[0m \u001b[0;34m=\u001b[0m \u001b[0mself\u001b[0m\u001b[0;34m.\u001b[0m\u001b[0m_parser\u001b[0m\u001b[0;34m.\u001b[0m\u001b[0mread_response\u001b[0m\u001b[0;34m(\u001b[0m\u001b[0;34m)\u001b[0m\u001b[0;34m\u001b[0m\u001b[0;34m\u001b[0m\u001b[0m\n\u001b[0m\u001b[1;32m    740\u001b[0m         \u001b[0;32mexcept\u001b[0m \u001b[0msocket\u001b[0m\u001b[0;34m.\u001b[0m\u001b[0mtimeout\u001b[0m\u001b[0;34m:\u001b[0m\u001b[0;34m\u001b[0m\u001b[0;34m\u001b[0m\u001b[0m\n\u001b[1;32m    741\u001b[0m             \u001b[0mself\u001b[0m\u001b[0;34m.\u001b[0m\u001b[0mdisconnect\u001b[0m\u001b[0;34m(\u001b[0m\u001b[0;34m)\u001b[0m\u001b[0;34m\u001b[0m\u001b[0;34m\u001b[0m\u001b[0m\n",
      "\u001b[0;32m~/lib/miniconda3/envs/rt/lib/python3.8/site-packages/redis/connection.py\u001b[0m in \u001b[0;36mread_response\u001b[0;34m(self)\u001b[0m\n\u001b[1;32m    322\u001b[0m \u001b[0;34m\u001b[0m\u001b[0m\n\u001b[1;32m    323\u001b[0m     \u001b[0;32mdef\u001b[0m \u001b[0mread_response\u001b[0m\u001b[0;34m(\u001b[0m\u001b[0mself\u001b[0m\u001b[0;34m)\u001b[0m\u001b[0;34m:\u001b[0m\u001b[0;34m\u001b[0m\u001b[0;34m\u001b[0m\u001b[0m\n\u001b[0;32m--> 324\u001b[0;31m         \u001b[0mraw\u001b[0m \u001b[0;34m=\u001b[0m \u001b[0mself\u001b[0m\u001b[0;34m.\u001b[0m\u001b[0m_buffer\u001b[0m\u001b[0;34m.\u001b[0m\u001b[0mreadline\u001b[0m\u001b[0;34m(\u001b[0m\u001b[0;34m)\u001b[0m\u001b[0;34m\u001b[0m\u001b[0;34m\u001b[0m\u001b[0m\n\u001b[0m\u001b[1;32m    325\u001b[0m         \u001b[0;32mif\u001b[0m \u001b[0;32mnot\u001b[0m \u001b[0mraw\u001b[0m\u001b[0;34m:\u001b[0m\u001b[0;34m\u001b[0m\u001b[0;34m\u001b[0m\u001b[0m\n\u001b[1;32m    326\u001b[0m             \u001b[0;32mraise\u001b[0m \u001b[0mConnectionError\u001b[0m\u001b[0;34m(\u001b[0m\u001b[0mSERVER_CLOSED_CONNECTION_ERROR\u001b[0m\u001b[0;34m)\u001b[0m\u001b[0;34m\u001b[0m\u001b[0;34m\u001b[0m\u001b[0m\n",
      "\u001b[0;32m~/lib/miniconda3/envs/rt/lib/python3.8/site-packages/redis/connection.py\u001b[0m in \u001b[0;36mreadline\u001b[0;34m(self)\u001b[0m\n\u001b[1;32m    254\u001b[0m         \u001b[0;32mwhile\u001b[0m \u001b[0;32mnot\u001b[0m \u001b[0mdata\u001b[0m\u001b[0;34m.\u001b[0m\u001b[0mendswith\u001b[0m\u001b[0;34m(\u001b[0m\u001b[0mSYM_CRLF\u001b[0m\u001b[0;34m)\u001b[0m\u001b[0;34m:\u001b[0m\u001b[0;34m\u001b[0m\u001b[0;34m\u001b[0m\u001b[0m\n\u001b[1;32m    255\u001b[0m             \u001b[0;31m# there's more data in the socket that we need\u001b[0m\u001b[0;34m\u001b[0m\u001b[0;34m\u001b[0m\u001b[0;34m\u001b[0m\u001b[0m\n\u001b[0;32m--> 256\u001b[0;31m             \u001b[0mself\u001b[0m\u001b[0;34m.\u001b[0m\u001b[0m_read_from_socket\u001b[0m\u001b[0;34m(\u001b[0m\u001b[0;34m)\u001b[0m\u001b[0;34m\u001b[0m\u001b[0;34m\u001b[0m\u001b[0m\n\u001b[0m\u001b[1;32m    257\u001b[0m             \u001b[0mbuf\u001b[0m\u001b[0;34m.\u001b[0m\u001b[0mseek\u001b[0m\u001b[0;34m(\u001b[0m\u001b[0mself\u001b[0m\u001b[0;34m.\u001b[0m\u001b[0mbytes_read\u001b[0m\u001b[0;34m)\u001b[0m\u001b[0;34m\u001b[0m\u001b[0;34m\u001b[0m\u001b[0m\n\u001b[1;32m    258\u001b[0m             \u001b[0mdata\u001b[0m \u001b[0;34m=\u001b[0m \u001b[0mbuf\u001b[0m\u001b[0;34m.\u001b[0m\u001b[0mreadline\u001b[0m\u001b[0;34m(\u001b[0m\u001b[0;34m)\u001b[0m\u001b[0;34m\u001b[0m\u001b[0;34m\u001b[0m\u001b[0m\n",
      "\u001b[0;32m~/lib/miniconda3/envs/rt/lib/python3.8/site-packages/redis/connection.py\u001b[0m in \u001b[0;36m_read_from_socket\u001b[0;34m(self, length, timeout, raise_on_timeout)\u001b[0m\n\u001b[1;32m    196\u001b[0m                 \u001b[0msock\u001b[0m\u001b[0;34m.\u001b[0m\u001b[0msettimeout\u001b[0m\u001b[0;34m(\u001b[0m\u001b[0mtimeout\u001b[0m\u001b[0;34m)\u001b[0m\u001b[0;34m\u001b[0m\u001b[0;34m\u001b[0m\u001b[0m\n\u001b[1;32m    197\u001b[0m             \u001b[0;32mwhile\u001b[0m \u001b[0;32mTrue\u001b[0m\u001b[0;34m:\u001b[0m\u001b[0;34m\u001b[0m\u001b[0;34m\u001b[0m\u001b[0m\n\u001b[0;32m--> 198\u001b[0;31m                 \u001b[0mdata\u001b[0m \u001b[0;34m=\u001b[0m \u001b[0mrecv\u001b[0m\u001b[0;34m(\u001b[0m\u001b[0mself\u001b[0m\u001b[0;34m.\u001b[0m\u001b[0m_sock\u001b[0m\u001b[0;34m,\u001b[0m \u001b[0msocket_read_size\u001b[0m\u001b[0;34m)\u001b[0m\u001b[0;34m\u001b[0m\u001b[0;34m\u001b[0m\u001b[0m\n\u001b[0m\u001b[1;32m    199\u001b[0m                 \u001b[0;31m# an empty string indicates the server shutdown the socket\u001b[0m\u001b[0;34m\u001b[0m\u001b[0;34m\u001b[0m\u001b[0;34m\u001b[0m\u001b[0m\n\u001b[1;32m    200\u001b[0m                 \u001b[0;32mif\u001b[0m \u001b[0misinstance\u001b[0m\u001b[0;34m(\u001b[0m\u001b[0mdata\u001b[0m\u001b[0;34m,\u001b[0m \u001b[0mbytes\u001b[0m\u001b[0;34m)\u001b[0m \u001b[0;32mand\u001b[0m \u001b[0mlen\u001b[0m\u001b[0;34m(\u001b[0m\u001b[0mdata\u001b[0m\u001b[0;34m)\u001b[0m \u001b[0;34m==\u001b[0m \u001b[0;36m0\u001b[0m\u001b[0;34m:\u001b[0m\u001b[0;34m\u001b[0m\u001b[0;34m\u001b[0m\u001b[0m\n",
      "\u001b[0;32m~/lib/miniconda3/envs/rt/lib/python3.8/site-packages/redis/_compat.py\u001b[0m in \u001b[0;36mrecv\u001b[0;34m(sock, *args, **kwargs)\u001b[0m\n\u001b[1;32m     70\u001b[0m \u001b[0;32melse\u001b[0m\u001b[0;34m:\u001b[0m  \u001b[0;31m# Python 3.5 and above automatically retry EINTR\u001b[0m\u001b[0;34m\u001b[0m\u001b[0;34m\u001b[0m\u001b[0m\n\u001b[1;32m     71\u001b[0m     \u001b[0;32mdef\u001b[0m \u001b[0mrecv\u001b[0m\u001b[0;34m(\u001b[0m\u001b[0msock\u001b[0m\u001b[0;34m,\u001b[0m \u001b[0;34m*\u001b[0m\u001b[0margs\u001b[0m\u001b[0;34m,\u001b[0m \u001b[0;34m**\u001b[0m\u001b[0mkwargs\u001b[0m\u001b[0;34m)\u001b[0m\u001b[0;34m:\u001b[0m\u001b[0;34m\u001b[0m\u001b[0;34m\u001b[0m\u001b[0m\n\u001b[0;32m---> 72\u001b[0;31m         \u001b[0;32mreturn\u001b[0m \u001b[0msock\u001b[0m\u001b[0;34m.\u001b[0m\u001b[0mrecv\u001b[0m\u001b[0;34m(\u001b[0m\u001b[0;34m*\u001b[0m\u001b[0margs\u001b[0m\u001b[0;34m,\u001b[0m \u001b[0;34m**\u001b[0m\u001b[0mkwargs\u001b[0m\u001b[0;34m)\u001b[0m\u001b[0;34m\u001b[0m\u001b[0;34m\u001b[0m\u001b[0m\n\u001b[0m\u001b[1;32m     73\u001b[0m \u001b[0;34m\u001b[0m\u001b[0m\n\u001b[1;32m     74\u001b[0m     \u001b[0;32mdef\u001b[0m \u001b[0mrecv_into\u001b[0m\u001b[0;34m(\u001b[0m\u001b[0msock\u001b[0m\u001b[0;34m,\u001b[0m \u001b[0;34m*\u001b[0m\u001b[0margs\u001b[0m\u001b[0;34m,\u001b[0m \u001b[0;34m**\u001b[0m\u001b[0mkwargs\u001b[0m\u001b[0;34m)\u001b[0m\u001b[0;34m:\u001b[0m\u001b[0;34m\u001b[0m\u001b[0;34m\u001b[0m\u001b[0m\n",
      "\u001b[0;31mKeyboardInterrupt\u001b[0m: "
     ]
    }
   ],
   "source": [
    "node.run()"
   ]
  },
  {
   "cell_type": "code",
   "execution_count": null,
   "metadata": {},
   "outputs": [],
   "source": []
  },
  {
   "cell_type": "markdown",
   "metadata": {},
   "source": [
    "# verify data "
   ]
  },
  {
   "cell_type": "code",
   "execution_count": 19,
   "metadata": {},
   "outputs": [],
   "source": [
    "import json\n",
    "import os\n",
    "import numpy as np\n",
    "import pandas as pd\n",
    "from brand.redis import RedisLoggingHandler\n",
    "from brand.timing import timespec_to_timestamp\n",
    "import matplotlib.pyplot as plt\n",
    "import seaborn as sns\n",
    "import gc\n",
    "import logging\n",
    "import time\n",
    "\n",
    "from redis import ConnectionError, Redis\n",
    "from brand import BRANDNode\n",
    "from brand.redis import xread_sync\n",
    "from threading import Timer"
   ]
  },
  {
   "cell_type": "code",
   "execution_count": 2,
   "metadata": {},
   "outputs": [],
   "source": [
    "\n",
    "\n",
    "NAME = \"timing_plots\"\n",
    "redis_host = '192.168.30.6'\n",
    "redis_port = 27263\n",
    "redis_socket = 10\n",
    "\n",
    "r = Redis(redis_host, redis_port, retry_on_timeout=True)\n",
    "r.ping()\n",
    "\n",
    "supergraph_entry = r.xrevrange(b'supergraph_stream', '+', '-', 1)[0]"
   ]
  },
  {
   "cell_type": "code",
   "execution_count": 4,
   "metadata": {},
   "outputs": [
    {
     "name": "stdout",
     "output_type": "stream",
     "text": [
      "5715 5716\n"
     ]
    }
   ],
   "source": [
    "# n_entries = r.xlen(\"reref_neural_all\")\n",
    "print(r.xlen(\"binned_spikes\"),r.xlen(\"binned_spikes_all\"))"
   ]
  },
  {
   "cell_type": "code",
   "execution_count": 40,
   "metadata": {},
   "outputs": [],
   "source": [
    "rn_all = r.xread({\"reref_neural_all\": b'0-0'}, count=1000)[0][1]\n",
    "rn_old = r.xread({\"reref_neural\": b'0-0'}, count=1000)[0][1]\n",
    "txa = r.xread({\"thresh_cross\": b'0-0'}, count=1000)[0][1]\n",
    "tx4 = r.xread({\"thresh_cross_4\": b'0-0'}, count=1000)[0][1]\n",
    "sba = r.xread({\"sbp\": b'0-0'}, count=1000)[0][1]\n",
    "sb4 = r.xread({\"sbp_3\": b'0-0'}, count=1000)[0][1]\n",
    "bs4 = r.xread({\"binned_spikes\": b'0-0'}, count=1000)[0][1]\n",
    "bsa = r.xread({\"binned_spikes_all\": b'0-0'}, count=1000)[0][1]"
   ]
  },
  {
   "cell_type": "code",
   "execution_count": 39,
   "metadata": {},
   "outputs": [],
   "source": [
    "input_streams= [\"thresh_cross_4\", \"sbp_3\"]\n",
    "stream_dict = {name.encode(): '$' for name in input_streams}\n",
    "streams = xread_sync(r,stream_dict,block=0,\n",
    "                        sync_field=b'timestamps',\n",
    "                        sync_dtype='uint64',\n",
    "                        count=10)"
   ]
  },
  {
   "cell_type": "code",
   "execution_count": 28,
   "metadata": {},
   "outputs": [],
   "source": [
    "\n",
    "in_field={b\"thresh_cross_4\":b\"crossings\", b\"sbp_3\":b\"samples\"}\n",
    "in_dtype={b\"thresh_cross_4\":np.dtype(\"int16\"), b\"sbp_3\":np.dtype(\"float32\")}\n",
    "window =np.zeros((256,10),dtype=np.float32)\n",
    "\n",
    "\n",
    "sync_entries = []\n",
    "sync_entries_stream_dump={}\n",
    "for stream in streams:\n",
    "    stream_name, stream_entries = stream\n",
    "    field = in_field[stream_name]\n",
    "    in_type = in_dtype[stream_name]\n",
    "    sync_entries_stream = []\n",
    "    synx=[]\n",
    "    for i, (entry_id, entry_dict) in enumerate(stream_entries):\n",
    "        # load the input\n",
    "        window[:, i] = np.frombuffer(entry_dict[field],\n",
    "                                            dtype=in_type).astype(\n",
    "                                                'float32')\n",
    "        # log sync for this entry\n",
    "        sync_entries_stream.append(\n",
    "            json.loads(entry_dict[b'sync'].decode()))\n",
    "        synx.append(json.loads(entry_dict[b'sync'].decode()))\n",
    "    sync_entries_stream_dump[stream_name.decode()]=synx\n",
    "    sync_entries.append(sync_entries_stream)\n",
    "    # update the xread ID\n",
    "    stream_dict[stream_name] = entry_id\n",
    "\n",
    "# create sync dict from sync entries from input streams\n",
    "sync_dict = {}\n",
    "for stream in sync_entries:\n",
    "    sync_entry_dict = stream[0]  # first entry from each stream\n",
    "    for key in sync_entry_dict:\n",
    "        sync_dict[key] = sync_entry_dict[key]\n",
    "sync_dict_json = json.dumps(sync_dict)"
   ]
  },
  {
   "cell_type": "code",
   "execution_count": 31,
   "metadata": {},
   "outputs": [
    {
     "data": {
      "text/plain": [
       "{'thresh_cross_4': [{'nsp_idx_1': 1},\n",
       "  {'nsp_idx_1': 2},\n",
       "  {'nsp_idx_1': 3},\n",
       "  {'nsp_idx_1': 4},\n",
       "  {'nsp_idx_1': 5},\n",
       "  {'nsp_idx_1': 6},\n",
       "  {'nsp_idx_1': 7},\n",
       "  {'nsp_idx_1': 8},\n",
       "  {'nsp_idx_1': 9},\n",
       "  {'nsp_idx_1': 10}],\n",
       " 'sbp_3': [{'nsp_idx_1': 1},\n",
       "  {'nsp_idx_1': 2},\n",
       "  {'nsp_idx_1': 3},\n",
       "  {'nsp_idx_1': 4},\n",
       "  {'nsp_idx_1': 5},\n",
       "  {'nsp_idx_1': 6},\n",
       "  {'nsp_idx_1': 7},\n",
       "  {'nsp_idx_1': 8},\n",
       "  {'nsp_idx_1': 9},\n",
       "  {'nsp_idx_1': 10}]}"
      ]
     },
     "execution_count": 31,
     "metadata": {},
     "output_type": "execute_result"
    }
   ],
   "source": [
    "sync_entries_stream_dump"
   ]
  },
  {
   "cell_type": "code",
   "execution_count": 41,
   "metadata": {},
   "outputs": [
    {
     "data": {
      "text/plain": [
       "((b'1733951899335-0',\n",
       "  {b'sync': b'{\"nsp_idx_1\": 1}',\n",
       "   b'timestamps': b'\\x01\\x00\\x00\\x00\\x00\\x00\\x00\\x00',\n",
       "   b'crossings': b'\\x00\\x00\\x00\\x00\\x00\\x00\\x00\\x00\\x00\\x00\\x00\\x00\\x00\\x00\\x00\\x00\\x00\\x00\\x00\\x00\\x00\\x00\\x00\\x00\\x00\\x00\\x00\\x00\\x00\\x00\\x00\\x00\\x00\\x00\\x00\\x00\\x00\\x00\\x00\\x00\\x00\\x00\\x00\\x00\\x00\\x00\\x00\\x00\\x00\\x00\\x00\\x00\\x00\\x00\\x00\\x00\\x00\\x00\\x01\\x00\\x00\\x00\\x00\\x00\\x00\\x00\\x00\\x00\\x00\\x00\\x00\\x00\\x00\\x00\\x00\\x00\\x01\\x00\\x00\\x00\\x00\\x00\\x00\\x00\\x00\\x00\\x00\\x00\\x00\\x00\\x00\\x00\\x00\\x00\\x00\\x00\\x00\\x00\\x00\\x00\\x01\\x00\\x00\\x00\\x00\\x00\\x00\\x00\\x00\\x00\\x00\\x00\\x00\\x00\\x00\\x00\\x00\\x00\\x00\\x00\\x00\\x00\\x00\\x00\\x00\\x00\\x00\\x00\\x00\\x00\\x00\\x00\\x00\\x00\\x00\\x00\\x00\\x00\\x00\\x00\\x00\\x00\\x00\\x00\\x00\\x00\\x00\\x00\\x00\\x00\\x00\\x00\\x00\\x00\\x00\\x00\\x00\\x00\\x00\\x00\\x00\\x00\\x00\\x00\\x00\\x00\\x00\\x00\\x00\\x00\\x00\\x00\\x00\\x00\\x00\\x00\\x01\\x00\\x00\\x00\\x00\\x00\\x01\\x00\\x00\\x00\\x00\\x00\\x00\\x00\\x01\\x00\\x00\\x00\\x01\\x00\\x00\\x00\\x00\\x00\\x00\\x00\\x00\\x00\\x00\\x00\\x00\\x00\\x00\\x00\\x00\\x00\\x00\\x00\\x00\\x00\\x00\\x00\\x00\\x00\\x00\\x00\\x00\\x00\\x00\\x00\\x00\\x00\\x00\\x00\\x00\\x00\\x00\\x00\\x00\\x00\\x00\\x00\\x00\\x00\\x00\\x00\\x00\\x00\\x00\\x00\\x01\\x00\\x00\\x00\\x00\\x00\\x00\\x00\\x00\\x00\\x00\\x00\\x00\\x00\\x00\\x00\\x00\\x00\\x00\\x00\\x00\\x00\\x00\\x00\\x00\\x00\\x00\\x00\\x00\\x00\\x00\\x00\\x00\\x00\\x00\\x00\\x00\\x00\\x00\\x00\\x00\\x00\\x00\\x00\\x00\\x00\\x01\\x00\\x00\\x00\\x00\\x00\\x00\\x00\\x00\\x00\\x00\\x00\\x00\\x00\\x00\\x00\\x00\\x00\\x00\\x00\\x00\\x00\\x00\\x00\\x00\\x00\\x00\\x00\\x00\\x00\\x00\\x00\\x00\\x00\\x00\\x00\\x00\\x00\\x00\\x00\\x00\\x00\\x00\\x00\\x00\\x00\\x00\\x00\\x00\\x00\\x00\\x00\\x00\\x00\\x00\\x00\\x00\\x00\\x00\\x00\\x00\\x00\\x00\\x00\\x00\\x00\\x00\\x00\\x00\\x00\\x00\\x00\\x00\\x00\\x00\\x00\\x00\\x00\\x00\\x00\\x00\\x00\\x00\\x00\\x00\\x00\\x00\\x00\\x00\\x00\\x00\\x00\\x00\\x00\\x00\\x00\\x00\\x00\\x00\\x00\\x00\\x00\\x00\\x00\\x00\\x00\\x00\\x00\\x00\\x00\\x00\\x00\\x00\\x00\\x00\\x00\\x00\\x00\\x00\\x00\\x00\\x00\\x00\\x00\\x00\\x00\\x00\\x00\\x00\\x00\\x00\\x00\\x00\\x00\\x00\\x00\\x00\\x00\\x00\\x00\\x00\\x00\\x00\\x00\\x00\\x00\\x01\\x00\\x00\\x00\\x00\\x00\\x00\\x00\\x00\\x00\\x00\\x00\\x01\\x00\\x00\\x00\\x00\\x00\\x00\\x00\\x00\\x00\\x00\\x00\\x00\\x00\\x00\\x00\\x00\\x00\\x00\\x00\\x01\\x00\\x00\\x00\\x00\\x00\\x00\\x00\\x00\\x00\\x00\\x00\\x01\\x00\\x00\\x00\\x00\\x00\\x00\\x00\\x01\\x00\\x00\\x00\\x00\\x00\\x01\\x00\\x00\\x00\\x00\\x00\\x00\\x00\\x00\\x00\\x00\\x00\\x00\\x00\\x00\\x00',\n",
       "   b'ts': b'\\xa2\\xd6\\xf6\\x1a1\\t\\x07\\x00'}),\n",
       " (b'1733951899334-0',\n",
       "  {b'sync': b'{\"nsp_idx_1\": 1}',\n",
       "   b'ts': b'\\x10\\xdb\\xf3\\x1a1\\t\\x07\\x00',\n",
       "   b'timestamps': b'\\x01\\x00\\x00\\x00\\x00\\x00\\x00\\x00',\n",
       "   b'crossings': b'\\x00\\x00\\x00\\x00\\x00\\x00\\x00\\x00\\x00\\x00\\x00\\x00\\x00\\x00\\x00\\x00\\x00\\x00\\x00\\x00\\x00\\x00\\x00\\x00\\x00\\x00\\x00\\x00\\x00\\x00\\x00\\x00\\x00\\x00\\x00\\x00\\x00\\x00\\x00\\x00\\x00\\x00\\x00\\x00\\x00\\x00\\x00\\x00\\x00\\x00\\x00\\x00\\x00\\x00\\x00\\x00\\x00\\x00\\x01\\x00\\x00\\x00\\x00\\x00\\x00\\x00\\x00\\x00\\x00\\x00\\x00\\x00\\x00\\x00\\x00\\x00\\x01\\x00\\x00\\x00\\x00\\x00\\x00\\x00\\x00\\x00\\x00\\x00\\x00\\x00\\x00\\x00\\x00\\x00\\x00\\x00\\x00\\x00\\x00\\x00\\x01\\x00\\x00\\x00\\x00\\x00\\x00\\x00\\x00\\x00\\x00\\x00\\x00\\x00\\x00\\x00\\x00\\x00\\x00\\x00\\x00\\x00\\x00\\x00\\x00\\x00\\x00\\x00\\x00\\x00\\x00\\x00\\x00\\x00\\x00\\x00\\x00\\x00\\x00\\x00\\x00\\x00\\x00\\x00\\x00\\x00\\x00\\x00\\x00\\x00\\x00\\x00\\x00\\x00\\x00\\x00\\x00\\x00\\x00\\x00\\x00\\x00\\x00\\x00\\x00\\x00\\x00\\x00\\x00\\x00\\x00\\x00\\x00\\x00\\x00\\x00\\x01\\x00\\x00\\x00\\x00\\x00\\x01\\x00\\x00\\x00\\x00\\x00\\x00\\x00\\x01\\x00\\x00\\x00\\x01\\x00\\x00\\x00\\x00\\x00\\x00\\x00\\x00\\x00\\x00\\x00\\x00\\x00\\x00\\x00\\x00\\x00\\x00\\x00\\x00\\x00\\x00\\x00\\x00\\x00\\x00\\x00\\x00\\x00\\x00\\x00\\x00\\x00\\x00\\x00\\x00\\x00\\x00\\x00\\x00\\x00\\x00\\x00\\x00\\x00\\x00\\x00\\x00\\x00\\x00\\x00\\x01\\x00\\x00\\x00\\x00\\x00\\x00\\x00\\x00\\x00\\x00\\x00\\x00\\x00\\x00\\x00\\x00\\x00\\x00\\x00\\x00\\x00\\x00\\x00\\x00\\x00\\x00\\x00\\x00\\x00\\x00\\x00\\x00\\x00\\x00\\x00\\x00\\x00\\x00\\x00\\x00\\x00\\x00\\x00\\x00\\x00\\x01\\x00\\x00\\x00\\x00\\x00\\x00\\x00\\x00\\x00\\x00\\x00\\x00\\x00\\x00\\x00\\x00\\x00\\x00\\x00\\x00\\x00\\x00\\x00\\x00\\x00\\x00\\x00\\x00\\x00\\x00\\x00\\x00\\x00\\x00\\x00\\x00\\x00\\x00\\x00\\x00\\x00\\x00\\x00\\x00\\x00\\x00\\x00\\x00\\x00\\x00\\x00\\x00\\x00\\x00\\x00\\x00\\x00\\x00\\x00\\x00\\x00\\x00\\x00\\x00\\x00\\x00\\x00\\x00\\x00\\x00\\x00\\x00\\x00\\x00\\x00\\x00\\x00\\x00\\x00\\x00\\x00\\x00\\x00\\x00\\x00\\x00\\x00\\x00\\x00\\x00\\x00\\x00\\x00\\x00\\x00\\x00\\x00\\x00\\x00\\x00\\x00\\x00\\x00\\x00\\x00\\x00\\x00\\x00\\x00\\x00\\x00\\x00\\x00\\x00\\x00\\x00\\x00\\x00\\x00\\x00\\x00\\x00\\x00\\x00\\x00\\x00\\x00\\x00\\x00\\x00\\x00\\x00\\x00\\x00\\x00\\x00\\x00\\x00\\x00\\x00\\x00\\x00\\x00\\x00\\x00\\x01\\x00\\x00\\x00\\x00\\x00\\x00\\x00\\x00\\x00\\x00\\x00\\x01\\x00\\x00\\x00\\x00\\x00\\x00\\x00\\x00\\x00\\x00\\x00\\x00\\x00\\x00\\x00\\x00\\x00\\x00\\x00\\x01\\x00\\x00\\x00\\x00\\x00\\x00\\x00\\x00\\x00\\x00\\x00\\x01\\x00\\x00\\x00\\x00\\x00\\x00\\x00\\x01\\x00\\x00\\x00\\x00\\x00\\x01\\x00\\x00\\x00\\x00\\x00\\x00\\x00\\x00\\x00\\x00\\x00\\x00\\x00\\x00\\x00'}),\n",
       " (b'1733951899332-0',\n",
       "  {b'sync': b'{\"nsp_idx_1\": 1}',\n",
       "   b'timestamps': b'\\x01\\x00\\x00\\x00\\x00\\x00\\x00\\x00',\n",
       "   b'samples': b'\\xed\\xf2zE\\xff\\x86~E^\\xe7\\x94D;\\x16\\x08E@\\xa8\\xf9D\\x95k\\x08E#\\xa1TEy7.Eg\\xc5\\x8fEk8\\x19EW\\xc9=EPR\\xccDd\\xbe\\tEsK\\xa7DL&\\tEl\\xda\\x0eE*\\xed\\xe6C|\\x8btE\\xb2v\\x0fE\\xa1\\x884E,\\xddXDd\\rGDg\\xab#D3X\\xfdCY\\xbaDD*\\xe0\\xa7DM\\xcf\\x00E\\x92\\xee\\xabD$\\x828D\\x01l\\xb3E\\t\\xff,D;\\xb2\\x01D\\x8c\\x97\\x86DNB\\xb5D\\x94[\\xc3D4\\xed\\x0bD1\\'\\x88D]\\'cF\\x9e\\x01\\x1dD\\xad\\xc9\\x0cC\\xe1\\x92\\x96D_~\\xd2E,O\\tE\\xbf7FE\\xf45\\xa6E\\x96\\xbb\\xd0D5\\xe0\\x0fE49*D\\x1b\\xd9\\x82D\\x05R\\x80E\\xf1\\xaf\\x10F\\x02\\x86\\xcaES\\x1c%EJ\\\\RD\\x0b>\\xa6E\\xdf\\xde\\xd7Ds\\x92\\x80C\\x9b2vF\\xe2M\\x16E\\t\\xd3\\xd9E\\x02,\\xd1E%\\x01)E\\x16\\xb4*F7d\\x15E\\xacQmC{b\\x9dD\\x15`\\x08D%\\xed\\x8cD\\xc9\\x84\\xa4C\"o\\x05E\\xeb\\xc3\\x08E\\x97!\\x1bEa$\\x9cC\\x12L\\x04E\\xaa\\xf1HD\\xfa\\xdfPD\\xf0\\xb1\\x16E\\x00\\xac\\x8eEE\\xb8\\x14E\\xcb\\xc6_D^i\\xc3DJ\\xa7\\xbdE\\xde\\x15\\tF\\xedT\\x90D\\xfb\\x81BE\\x0f\\xbd6E\\xf5\\x9a\\xbcC\\x86\\x8cdE+|\\xdbD\\x90\\xda\\xebD\\xbc\\x9f\\tD9\\x13\\x98D%\\xe1\\xbbD\\xdeA\\x92E\\x96t\\xc3Ew\\xb9\\x07E5\\xc4\\xb1C\\x87T\\xdcF\\xc9\\xc3\\xe0D\\xfb\\xe5\\x8cD\\x8d\\xe4AE\\xb4\\x1d\\xd9Dg>\\x8aE\\x0e\\x14uE\\x11\\x9a\\x9aD`\\xb7\\x82D\\xa2\\xaa\\x95E\\x0cJ\\x8aD\\xf5Z\\x9cE|\\xfc\\x1bE0\\xea\\xf1C\\xe0\\x0fQE\\xc4t]E#\\x18\\x9bE7\\x02>E\\x81\\xc1\\\\D\\xf2k4C\\x9c\\xdb\\xb1Ej\\xde\\xbeE.\\xf3\\xd6D\\x87\\xca\\xc2De1\\x8dE\\xca\\x01\\xb2E\\x04P\\x89E\\xc2\\x91\\xaeE\\xd0&\\xf3D\\xbc\\xae\\x14E\\x8a\\xb4%E\\xb2\\x0flE\\x1c\\xa1\\x1fE\\xd0\\xa8\\x19E\\x16]\\xcdE\\xa6D E\\xabC3E\\xb3\\xb0\\x10EP\\xc33E\\xb0\\x0b\\xe7E{\\xce|D\\x9b\\x8e\\xc7Du\\xf3\\x03E\\x80b\\xdfD\\x07b1E\\x02\\x9c\\x13E\\x90\\xa8\\xdeD\\xf6$\\xa9D|\\x1e\\xceD\\xb1<\\xb0D\\xdd\\xec\\xe6D\\xccYUD\\xd2\\xe9ME\\xb6\\r!E\\xbd\\xf1\\\\Ec\\xf7\\xf1C,\\x85YD/\\xc7\\x1bD\\xd3\\xdb2D\\\\\\xb2\\xb8D\\x1f\\x01;E\\xf1\\x00\\xb0D4\\x0e\\xe6D t\\xa1C\\xdb\\xf0\\xa2C\\x02\\x08vD\\xf7:3D\\xae\\xac\\x87D\\xda\\x18\\xfdD#u\\x90D\\xbbE\\xe2DJ\\xa9\\x81C\\xd5\\xe0\\\\C\\xfa\\xa8\\xa4D\\x1e\\xe0\\x83D\\x87v\\x85D\\xfa-\\xfeD5QpD\\xf6\\xf0BD\\xb3POD\\xa7\\x0bWD\\xc1\\x87\\x0bDP\\xbe\\xb0D^\\xbe\\xb3D\\xbf\\x85\\x94D\\x9c)\\xceD\\xa4T\\xccC\\xb7k\\x00D4\\xe92E\\x87\\x10\\x1eE\\xcb@\\xabD\\x1d^\\xd4D\\xed\\xf3,D\\x8e\\xa1vD):\\xc9C\\xff\\xe8\\nF6\\x93\\xbaEW\\x11FF\\x91<\\xa1E\\xe2\\x9c\\xcdE6l\\x93F\\xe4\\xeb\\x10EB\\xe59E\\xabq\\xd7E\\xc6tKE\\xbc\\xeb\\x07F\\xc5\\t%E\\x90v\\xffEv\\xfe\\xdaEll\\x96D\\xd9\\xbd\\xa3E\\x00\\xfc\\xd3ErO\\xa1Ek\\xd2\\xd1E\\x1c\\xbd\\x1bF[\\xb33F,\\x1c\\x82E\\xfe#\\xa6Em`\\x93D\\xaae\\xf1E\\xaed\\x04F\\xb7\\xe8\\xccE\\x1d\\x1f\\xc7El8\\xdfEL>\\xa5E\\xdef\\xd5E\\x94\\x04\\x8cE\\xfdw\\xd8E7?(F>\\x90\\x13F\\xc4v\\x07F\\xcb\\xfe\\xedE\\xe9/\\x08FW\\xe2\\rFn\\x82\\x1fE\\xf3VoE\\xe2_\\xfaE2|\\xf1E\\xac\\xfd\\x0eF,\\x1e\\x02E#\\x0b\\x9bEUw)E\\xcf\\x88\\x0cE\\x12\\xe7\\xd3E3&\\x00E\\xb2t\\x1bE\\xbb\\x9d\\x98E\\x1a\\xec\\x88Ei7\\x19F\\x92_\\xc6E\\xdd\\xdf\\xb6D\\x82\\x9b\\x84E$\\xfd\\xc6D\\xc2M\\xebEE\\x9b\\xbeE\\xa3o\\x15Fo\\xc0\\xd6E\\x14E\\x14E<\\x195E',\n",
       "   b'ts': b'\\x1e\\x8d\\xc9\\x1a1\\t\\x07\\x00'}),\n",
       " (b'1733951899334-0',\n",
       "  {b'sync': b'{\"nsp_idx_1\": 1}',\n",
       "   b'ts': b'\\x10\\xdb\\xf3\\x1a1\\t\\x07\\x00',\n",
       "   b'timestamps': b'\\x01\\x00\\x00\\x00\\x00\\x00\\x00\\x00',\n",
       "   b'samples': b'\\xba\\xb3\\x15E\\x08\\xaf\\x11E\\xf5\\xee1D\\xcd\\x98\\xceD+\\xc2\\xbdD;7\\xe9D\\x19^\\x18EM\\xe0\\xbcD;X&E\\xef\\xb2\\x8dD\\xb4}\\xdfD\\x1dMqD\\x18\\xec\\xd1D\\xd7\\xf3\\x97D\\xb4{\\xd6DMV\\xceD\\x95_\\xd5C\\xca\\xeb\\x1eEv\\x83\\xb6D\\x08\\xec\\xefD~\\xae^D\\x18_)D\\x9d\\xc6\\x1dD\\x13\\xfc\\nD(\\x06\\xebC\\x0e\\x12=D^\\x96\\x98D\\xe4\\x94JD1\\xc5\"D\\xe5\\x99\\xb4E*\\xeaGD0/8Dsp9DU\\xcfsD\\x8a\\xe9\\x88DBp\\x00DR\\x07!D\\xe0\\xd6XF\\xccTCD\\x1f\\xfb4C\\xe1\\xf7yD\\xb2\\x13\\x85El\\xdcOE\\xbeXKE\\x05\\xc4\\\\Eh\\xe4}D\\x0f]\\xacD\\xe6\\xc7GD\\xee\\x996D\\xc6!\\nE\\x0c{\\xbfE(buE5\\xac\\xd3D\\x0b\\xeb/D\\x91\\x96-E\\x80\\xc4\\x9eDbC\\xf9C\\x84]IF\\xd0\\xb0\\xafD*D\\x81ER\\x9c@E\\x03`\\xcbD;\\xf7\\xa7E\\x19v\\x96D^\\xa0\\x8aC\\xb9@5D\\x13\\xdf&D\\xcdTBD\\x91\\xd2\\xb1C%u\\xb9D\\x9f\\xd1\\xa1D \\x7f\\x86D\\xdeO\\xe8C\\x85\\x1c\\xc4D\\xdd\\xee\\xe7DYS]D\\x02\\xbb\\xbcD\\xcb\\xe9\\x0fE\\x8ak\\xbcD\\xf9\\xfd\\xdeC<\\xa9\\xbbD)\\xf6\\x86E<\\x13\\xf5E\\xa2\\x92\\x1dE\\x84\\x13\\xdbD\\xdb\\x8c\\xc7D\\x1f.\\xd8C\\xfcE\\x08E,)MD\\x0e\\x03\\xbfD\\x883\\x9aC\\x9cy\\x8cD\\xd0\\xdc\\x8eD\\xd8+\\x18E\\x8d\\xbcOE\\x03i\\x94D\\x81l\\x96C\\x10\\x9a\\xb6F\\xa6_\\x1eE\\x99\\xb7\\x9eD\\xa9\\xcfjE_W}D\\x95(\\nE\\x1c$\\xf7D\\x88\\xb3\\x85D|\\xbe-D9\\xab\\x95E\\xe1a\\xefD\\xf3\\xf7lE>?\\xa0D\\xe2\\xf8\\x19D\\xaf\\xe1\\xfcD\\xab\\x9c\\xd5DH\\xc4NE\\xd4\\x9fzE(\\x98wDx\\xe8\\xc8CU\\x02RE=\\xb5\\x7fE\\xf4\\xe0\\x81DX\\xc8\\x89DH\\xafgEXp\\xb1E\\xb9\\xb3mEj\\xb5\\x14F\\xc09\\xbdD\\xf9n\\xa9D\\xb7\\xa7\\xb3D\\xb7.\\xe9D\\xba=\\x9fDJ\\xfd\\xadD\\xc1GcE0\\x1d\\x9fD}E\\xa9D\\x92y\\x81D\\x97\\xa8\\xbbD_JpE1\\xe0;D*\\x8cUD?\\xd2\\xa4D\\xc5KVD\\xac6\\xaeD\\xd5\\xf7\\xb3D\\xf6\\xcblD!\\xa8hD\\xc9\\x1c\\x88D!\\x04?D\\xa6F\\xb0D=zMDY \\xe3DH\\xa9\\xbcDWp\\x08E\\xeeO\\xb8C\\x9c\\x9f\\xedCr\\x90\\rD;\\xe9\\x0eDjDED\\x01=\\xd2D\\x1f!@D\\xa3x\\x92D)8\\xb0C\\x88\\x9b\\x99C\\xe7\\x88\\x1bD\\xa4}\\xd7C\\xa3o<Dve\\x90D\\xa2L$D\\xf7\\xd1wD\\xbf,IC\\x04\\x1doC\\x0b\\x146D\\x1c\\xea.D\\x1c\\x0f\\x1dD>\\x9e\\x80D\\xdc\\xd4\\x01D\\xc9/\\xdbC\\x15+\\xb4C\\x8a\\x9b\\x03D\\xc7\\xaf\\x08D\\xb8\\x92tD\\xb7:^DX\\x87qD\\xc8XXD\\xf5\\xc9\\xc7C\\xd6\\x1d\\xdbCDo\\xaaD2\\xb3\\xa4D\\xd32;D\\x17\\xc5iD\\x99!\\xf3C\\xdf\\xf1DD\\x0b\\x8a\\xe2C\\xe8m\\x8aE\\x8f\\xddGE\\xceh\\xa9EJ\\xd4\\x1bE\\xae\\xf3]Em/_Fdf,D5\\xb1\\xc7D\\x8f\\x11LE2\\xcf\\xebD\\x11\\xb8\\x85E\\xf83\\xadD\\x00\\xf9}EV\\xd4iE\\xf8\\x01TDpC0Er QE\\xdd1&E(59E\\xf4l\\xa8E\\xe8\\x8c\\x92E\\xc2\\xee\\xf7D\\x9c\\xef+E\\xf6\\xe4:Da\\xedfE\\x8eJ|E\\xe7\\xd6`E9oTEZ\\xffYEok\\x00EJ\\xd69E\\xaf\\xed\\x10EEy@E\\xe7\\x96\\xb1E.\\xf8\\xa2E\\x07n\\x99E/\\xa0\\x8fE\\x10\\x80\\x8cE\\xa4\\xcc\\x82E\\x95\\xbbpDPB\\x05E\\x9c\\xfekE43xEBf\\x8cE,\\xe2\\x96D\\xd1J1E\\xe4n\\xb0Dh\\x0f\\x8dD;*aE&Z\\xc3D\\xb48\\xa7D\\x9c\\x9e\\x12E\\x90\\x08\\x1fE\\x9e\\xa6qF\\xce\\x8a\\\\E\\x9a\\x0bbDcf\\x16E}a\\xb4D7\\xec\\x81E|\\xe9JE\\xbby\\xaeE\\x15\\xdf~E\\xa42\\xaeD\\xe7\\xa9\\xb6D'}),\n",
       " (b'1733951899344-0',\n",
       "  {b'samples': b'\\x00\\x00\\x00\\x00\\x00\\x00\\x00\\x00\\x00\\x00\\x00\\x00\\x00\\x00\\x00\\x00\\x00\\x00\\x00\\x00\\x00\\x00\\x00\\x00\\x00\\x00\\x00\\x00\\x00\\x00\\x00\\x00\\x00\\x00\\x00\\x00\\x00\\x00\\x00\\x00\\x00\\x00\\x00\\x00\\x00\\x00\\x00\\x00\\x00\\x00\\x00\\x00\\x00\\x00\\x00\\x00\\x00\\x00\\x00\\x00\\x00\\x00\\x00\\x00\\x00\\x00\\x00\\x00\\x00\\x00\\x00\\x00\\x00\\x00\\x00\\x00\\x00\\x00\\x00\\x00\\x00\\x00\\x00\\x00\\x00\\x00\\x00\\x00\\x00\\x00\\x00\\x00\\x00\\x00\\x00\\x00\\x00\\x00\\x00\\x00\\x00\\x00\\x00\\x00\\x00\\x00\\x00\\x00\\x00\\x00\\x00\\x00\\x00\\x00\\x00\\x00\\x00\\x00\\x00@\\x00\\x00\\x00@\\x00\\x00\\x00\\x00\\x00\\x00\\x00\\x00\\x00\\x00\\x00\\x00\\x00\\x00\\x80?\\x00\\x00\\x00\\x00\\x00\\x00\\x00\\x00\\x00\\x00\\x00\\x00\\x00\\x00\\xe0@\\x00\\x00\\x00\\x00\\x00\\x00\\x00\\x00\\x00\\x00\\x00\\x00\\x00\\x00\\x80?\\x00\\x00\\x00\\x00\\x00\\x00\\x00\\x00\\x00\\x00\\x00\\x00\\x00\\x00\\x00\\x00\\x00\\x00\\x00\\x00\\x00\\x00\\x00\\x00\\x00\\x00\\x00\\x00\\x00\\x00@@\\x00\\x00\\x00\\x00\\x00\\x00\\x00\\x00\\x00\\x00\\x00\\x00\\x00\\x00\\x00\\x00\\x00\\x00\\x00\\x00\\x00\\x00\\x00\\x00\\x00\\x00\\x00\\x00\\x00\\x00\\x00\\x00\\x00\\x00\\x80?\\x00\\x00\\x00\\x00\\x00\\x00\\x00\\x00\\x00\\x00\\x00\\x00\\x00\\x00\\x00\\x00\\x00\\x00\\x00\\x00\\x00\\x00\\x00\\x00\\x00\\x00\\x00\\x00\\x00\\x00\\x00\\x00\\x00\\x00\\x00\\x00\\x00\\x00\\x00\\x00\\x00\\x00\\x00\\x00\\x00\\x00\\x00\\x00\\x00\\x00\\x00\\x00\\x00\\x00\\x00\\x00\\x00\\x00\\x00\\x00\\x00\\x00\\x00\\x00\\x00\\x00\\x00\\x00\\x00\\x00\\x00\\x00\\x00\\x00\\x00\\x00\\x00\\x00\\x00\\x00\\x00\\x00\\x00\\x00\\x00\\x00\\x00\\x00\\x00\\x00\\x00\\x00\\x00\\x00\\x00\\x00\\x00\\x00\\x00\\x00\\x00\\x00\\x00\\x00\\x00\\x00\\x00\\x00\\x00\\x00\\x00\\x00\\x00\\x00\\xe0@\\x00\\x00\\x00\\x00\\x00\\x00\\x00\\x00\\x00\\x00\\x00A\\x00\\x00\\x00\\x00\\x00\\x00\\x00\\x00\\x00\\x00\\x00\\x00\\x00\\x00\\x80?\\x00\\x00\\x00\\x00\\x00\\x00\\x80?\\x00\\x00\\x00\\x00\\x00\\x00\\x00\\x00\\x00\\x00@@\\x00\\x00\\x00\\x00\\x00\\x00\\x00\\x00\\x00\\x00\\x00\\x00\\x00\\x00\\x00\\x00\\x00\\x00\\x00\\x00\\x00\\x00\\x00\\x00\\x00\\x00\\x00\\x00\\x00\\x00\\x00\\x00\\x00\\x00\\x00\\x00\\x00\\x00\\x00\\x00\\x00\\x00\\x00\\x00\\x00\\x00\\x00\\x00\\x00\\x00\\x80@\\x00\\x00\\x00\\x00\\x00\\x00\\x00\\x00\\x00\\x00\\x00\\x00\\x00\\x00\\x00\\x00\\x00\\x00\\x00\\x00\\x00\\x00\\x00\\x00\\x00\\x00\\x00\\x00\\x00\\x00\\x00\\x00\\x00\\x00\\x00\\x00\\x00\\x00@@\\x00\\x00\\x00\\x00\\x00\\x00\\x00\\x00\\x00\\x00\\x00\\x00\\x00\\x00\\x00\\x00\\x00\\x00\\x00\\x00\\x00\\x00\\x00\\x00\\x00\\x00\\x00\\x00\\x00\\x00\\x00\\x00\\x00\\x00\\x00\\x00\\x00\\x00\\x00\\x00\\x00\\x00\\x00\\x00\\x00\\x00\\x00\\x00\\x00\\x00\\x00\\x00\\x00\\x00\\x00\\x00\\x00\\x00\\x00\\x00\\x00\\x00\\x00\\x00\\x00\\x00\\x00\\x00\\x00\\x00\\x80?\\x00\\x00\\x00\\x00\\x00\\x00\\x00\\x00\\x00\\x00\\x00\\x00\\x00\\x00\\x00\\x00\\x00\\x00\\x00@\\x00\\x00\\x00\\x00\\x00\\x00\\x00\\x00\\x00\\x00\\x00\\x00\\x00\\x00\\x00\\x00\\x00\\x00\\x00\\x00\\x00\\x00\\x00\\x00\\x00\\x00\\x00\\x00\\x00\\x00\\x00\\x00\\x00\\x00\\x00\\x00\\x00\\x00\\x00\\x00\\x00\\x00\\x00\\x00\\x00\\x00\\x00\\x00\\x00\\x00\\x00\\x00\\x00\\x00\\x00\\x00\\x00\\x00\\x00\\x00\\x00\\x00\\x00\\x00\\x00\\x00\\x00\\x00\\x00\\x00\\x00\\x00\\x00\\x00\\x00\\x00\\x00\\x00\\x00\\x00\\x00\\x00\\x00\\x00\\x00\\x00\\x00\\x00\\x00\\x00\\x00\\x00\\x00\\x00\\x00\\x00\\x00\\x00\\x00\\x00\\x00\\x00\\x00\\x00\\x00\\x00\\x00\\x00\\x00\\x00\\x00\\x00\\x00\\x00\\x00\\x00\\x00\\x00\\x00\\x00\\x00\\x00\\x00\\x00\\x00\\x00\\x00\\x00\\x00\\x00\\x00\\x00\\x00\\x00\\x80?\\x00\\x00\\x00\\x00\\x00\\x00\\x00\\x00\\x00\\x00\\x00\\x00\\x00\\x00\\x00\\x00\\x00\\x00\\x00\\x00\\x00\\x00\\x00\\x00\\x00\\x00\\x00\\x00\\x00\\x00\\x00\\x00\\x00\\x00\\x00\\x00\\x00\\x00\\x00\\x00\\x00\\x00\\x00\\x00\\x00\\x00\\x00\\x00\\x00\\x00\\x00\\x00\\x00\\x00\\x00\\x00\\x00\\x00\\x00\\x00\\x00\\x00\\x00\\x00\\x00\\x00\\x00\\x00\\x00\\x00\\x80?\\x00\\x00\\x00\\x00\\x00\\x00\\x00\\x00\\x00\\x00\\x00\\x00\\x00\\x00\\x00\\x00\\x00\\x00\\x00\\x00\\x00\\x00\\x00\\x00\\x00\\x00\\x80?\\x00\\x00\\x00\\x00\\x00\\x00\\x00\\x00\\x00\\x00\\x00\\x00\\x00\\x00\\x00\\x00\\x00\\x00\\x00\\x00\\x00\\x00\\x00\\x00\\x00\\x00\\x00\\x00\\x00\\x00\\x00\\x00\\x00\\x00\\x00\\x00\\x00\\x00\\x00\\x00\\x00\\x00\\x00\\x00\\x00\\x00\\x00\\x00\\x00\\x00\\x00\\x00\\x00\\x00\\x80?\\x00\\x00\\x00\\x00\\x00\\x00\\x00\\x00\\x00\\x00\\x00\\x00\\x00\\x00\\x00\\x00\\x00\\x00\\x00\\x00\\x00\\x00\\x80?\\x00\\x00\\x00\\x00\\x00\\x00\\x00\\x00\\x00\\x00\\x00\\x00\\x00\\x00\\x00\\x00\\x00\\x00\\x00\\x00\\x00\\x00\\x00\\x00\\x00\\x00\\x00\\x00\\x00\\x00\\x80?\\x00\\x00\\x00\\x00\\x00\\x00\\x80?\\x00\\x00\\x00\\x00\\x00\\x00\\x00\\x00\\x00\\x00\\x00\\x00\\x00\\x00\\x00\\x00\\x00\\x00\\x00\\x00\\x00\\x00\\xe0@\\x00\\x00\\x00\\x00\\x00\\x00\\x00\\x00\\x00\\x00\\x00\\x00\\x00\\x00\\x80?\\x00\\x00\\x00\\x00\\x00\\x00\\x00\\x00\\x00\\x00\\x80?\\x00\\x00\\x80?\\x00\\x00\\x00\\x00\\x00\\x00\\x00\\x00\\x00\\x00\\x00\\x00\\x00\\x00\\x00\\x00\\x00\\x00\\x00\\x00\\x00\\x00\\x00\\x00\\xca\\xfb\\x01F1\\xc8\\x18F\\x9d\\xff\\x83EQk\\xdbEa6\\xdeE\\x18\\xf2\\xf6E\\xeduCF]\\x99\\xe5Ee\\xdf\\x10F {\\x03F\\xb4!\\x18F\\x80\\t\\xb6E9\\xc8\\xbeE\\xb7\\x08\\xa0E\\xaa\\xe6\\xe6EcV+F\\xf2{\\xa1E\\xf5\\xb3+F\\xefh\\xc6EZ\"\\xe1E|\\xbd\\x86E*\\xe7\\xbcEs\\xb4\\xe8E\\xfa\\xadPE,\\xa8\\xa1E\\xeb\\xf5\\x05F\\xed\\x05\\xb4EhU\\xe8E\\xc2=[F0}\\xc2F\\xf0\\xad?F\\xa5\\x1f\\x8fEc8\\x19F\\x9d \\xc2E|q\\x00F\\xc7}\\xd7E\\xd7\\xa6:F\\x83\\x04+G\\xa4\\x10\\x08F\\xf2\\xdbtE\\xcad\\xe8E\\'8kF8\\xf0\\x0bG\\xc4\\xb1\\x97F\\x10\\xff\\xd1F1[\\xb9E\\x10\\xef\\xe7Eb\\xf0rE\\xa4/\\xacE3\\xcb0Fs\\x9c\\xcfFF\\xe1\\x99FJ\\xdb\\x04F\\xb8\\xc1\\xc9Ej\\xda[F3\\xe2\\xa5E9\\xc4~E<\\\\\\x15G\\xc67\\xbdF\\x8d9\\x14G\\xf6\\xc3\\x9bF\\xb7X\\xf0EXu\\x95F\\xa0 \\x97E\\xf4\\xa1OE)?\\rF\\xf7;\\x0fGRa8F\\xe9\\xe2\\xa5E|)\\xb0E\\xe2\\x94\\xabE\\x08\\xc3\\xe5E\\xd5@\\x9dET\\x89AF\\xc9\\x14fF\\xd2\\x01\\x05G\\xc8\\x8f\"F\\x91\\x03\\x1dF\\x84\\xef\\xbcE\\xb1\\xf9\\xb1E#\\xed\\xc4E\\xcb\\xbd~F\\xd5\\x11\\xd5Ft\\xc2nF~H)F\\x86F\\x83F\\xb1x!F\\xedo\\x13F\\xb30\\x91EB\\x05\\xdaEG\\x94\\x1aF\\xc5g[F\\xd5,\\x13F\\xdc\\xd4\\x17F\\xe3\\xe13F71\\xbfE\\x10\\xd3\\x82E\\xd1\\xe0\\x1eG\\xb4\\xd3\\x0bGo`\\xaaFR\\xe1\\x90F\\xcf\\x7f\\xebE\\xf4#\\x11F\\r\\x9f\\xeaEJJ\\x0eFn\\xfa\\x12F@E\\xb6F{z\\xa3F|\\xb9kF\\xcd\\x17\\x1fF5\\x0b\\x9fEO\\n\\xdfEF\\x15\\x06F\\t\\xa26Fv\\x01\\x84Fj>WFh\\x83\\xe2E\\x13\\x99HFG`qF\\xe1\\xfa\\xd5E\\xbdn\\xc3Eym:F;\\xd1\\xb6F\"4\\xafFK\\xa2\\xcfFw\\xf92F\\xf8\\xd8\\xb3E\\xbe\\xe0\\xb1Eb\\x83\\x0cF\\xe0\\x18\\xd8E<\\x84\\xdeEc\\x1eLF(\\x0c\\x0cF\\x80:\\x03F\\x89]\\xd6E\\xdd\"\\xcfE\\x96uyF\\xfa\\xc6\\xd6E\\x84M\\xbeE\\x13\\xaa\\x03F\\xe7c\\xe7E\\xaf\\xa1\\x18F\\xb5\\xea\\x02F\\xf1\\x83\\xbbE \\x83\\xc4E\\x8a\\x9b\\xd8E\\xc2#\\xabE\\xf2u\\x10F~\\x8f\\xf0E\\xc6\\xca\\xf5EqW\\x03F\\xb6\\x1b\\x03Fb\\xb3\\x94E\\xe3\\xe5\\xb4E\\xa6\\xc9\\xa7Ew\\x84\\xc1E\\xa0\\xf2\\xb9EO\\xf3\\xb7E[\\xf3\\xbcE\\x82U\\nF\\xed\\x8a>E3\\xfeHE\\xceO\\x88E\\xa6\\x91IE\\xc7\\xa2\\xaeE\\x87\\x89\\xbdE\\x7f\\xfd\\x99E\\xce\\x06\\xa2Ez\\xbb%E5\\xf5\\x0bES\\xff\\x98E\\x8b\\x9c\\x9cE^\\xcd\\x93ER\\xe0\\xdeE\\xefP\\xc6E\\xd0`\\x96Eq\\xf9wE\\xadAmE\\x8f\\x99\\xa2E\\x895\\xbaE\\x90hRF2\\xa8\\xbdE\\xb65\\x97E\\xa7oVE\\xd70;Em3\\xc3E\\x90\\xb3\\xd7E\\xf5\\x1b\\xa1E\\x1b\\x8f\\xaeE>>rE\\xb0\\x87LE\\x97\\xc1}E\\r\\x15jF\\xc0\\xb5(F\\xb7\\xbd\\xb5F\\xf6\\xe3AF\\xcb\\x8a;F|5\\xdaF\\x03I^F\\xa8\\x8f-F\\xa7\\xdcCF\\xf7\\xee\\xf2E\\t\\xfesF\\'\\x7f\\xefE\\\\\\xc8rF\\xe7\\xdc\\xd3F\\xbd\\xe7\\x03F\\xbc\\xdd\\x85F\\xb2\\x87gFM\\xa3FFiM[F<\\xf3\\x8cF;o\\xd5F\\x9e\\x9c\"F\\xe6\\x92?F\\xbd\\x91\\xe0E\\xaf\\xb5^F\\xa1MjFRh]F\\xf5\\xc2HF\\x9fiZF\\xfc\\x10QF~#KF\\x7f\\xf0/F\\xbb\\x89wF\\xc9\\x0c\\x98F\\xb3\\xd9\\xa0Ft\\xd0\\x84F\\xb2+gF\\x15\\x81kF,R\\x94F\\xce\\xab4F\\xc6j\\xfeE\\nP\\x98F\\xfb\\xfd\\x80F\\\\\\xc5\\x8eF\\xfdS\\xdcE\\nzOFG\\x00\\x1aF\\x8c\\xc6\\xeaEL\\x19XF\\x7fDVF\\xc8\\xb4\\x0bF-\\xa4\\x1bFfP\\'F\\xac\\x99\\xdcF\\xbf&LF\\x94k\\x0cFy\\x96<FQ^TG\\xaf%KFa\\xebHF\\xf5\\x99\\x9fFOi\\x85F\\xf2\\x1d\\xfdEr\\xb3\\xebE',\n",
       "   b'i': b'\\x00\\x00\\x00\\x00\\x00\\x00\\x00\\x00',\n",
       "   b'sync_dump': b'{\"thresh_cross_4\": [{\"nsp_idx_1\": 1}, {\"nsp_idx_1\": 2}, {\"nsp_idx_1\": 3}, {\"nsp_idx_1\": 4}, {\"nsp_idx_1\": 5}, {\"nsp_idx_1\": 6}, {\"nsp_idx_1\": 7}, {\"nsp_idx_1\": 8}, {\"nsp_idx_1\": 9}, {\"nsp_idx_1\": 10}], \"sbp_3\": [{\"nsp_idx_1\": 1}, {\"nsp_idx_1\": 2}, {\"nsp_idx_1\": 3}, {\"nsp_idx_1\": 4}, {\"nsp_idx_1\": 5}, {\"nsp_idx_1\": 6}, {\"nsp_idx_1\": 7}, {\"nsp_idx_1\": 8}, {\"nsp_idx_1\": 9}, {\"nsp_idx_1\": 10}]}',\n",
       "   b'ts': b'\\xc2\\x97\\x86\\x1b1\\t\\x07\\x00',\n",
       "   b'sync': b'{\"nsp_idx_1\": 1}'}),\n",
       " (b'1733951899343-0',\n",
       "  {b'sync': b'{\"nsp_idx_1\": 1}',\n",
       "   b'ts': b'.Iw\\x1b1\\t\\x07\\x00',\n",
       "   b'timestamps': b'\\n\\x00\\x00\\x00\\x00\\x00\\x00\\x00',\n",
       "   b'samples': b'\\x00\\x00\\x00\\x00\\x00\\x00\\x00\\x00\\x00\\x00\\x00\\x00\\x00\\x00\\x00\\x00\\x00\\x00\\x00\\x00\\x00\\x00\\x00\\x00\\x00\\x00\\x00\\x00\\x00\\x00\\x00\\x00\\x00\\x00\\x00\\x00\\x00\\x00\\x00\\x00\\x00\\x00\\x00\\x00\\x00\\x00\\x00\\x00\\x00\\x00\\x00\\x00\\x00\\x00\\x00\\x00\\x00\\x00\\x00\\x00\\x00\\x00\\x00\\x00\\x00\\x00\\x00\\x00\\x00\\x00\\x00\\x00\\x00\\x00\\x00\\x00\\x00\\x00\\x00\\x00\\x00\\x00\\x00\\x00\\x00\\x00\\x00\\x00\\x00\\x00\\x00\\x00\\x00\\x00\\x00\\x00\\x00\\x00\\x00\\x00\\x00\\x00\\x00\\x00\\x00\\x00\\x00\\x00\\x00\\x00\\x00\\x00\\x00\\x00\\x00\\x00\\x00\\x00\\x00@\\x00\\x00\\x00@\\x00\\x00\\x00\\x00\\x00\\x00\\x00\\x00\\x00\\x00\\x00\\x00\\x00\\x00\\x80?\\x00\\x00\\x00\\x00\\x00\\x00\\x00\\x00\\x00\\x00\\x00\\x00\\x00\\x00\\xe0@\\x00\\x00\\x00\\x00\\x00\\x00\\x00\\x00\\x00\\x00\\x00\\x00\\x00\\x00\\x80?\\x00\\x00\\x00\\x00\\x00\\x00\\x00\\x00\\x00\\x00\\x00\\x00\\x00\\x00\\x00\\x00\\x00\\x00\\x00\\x00\\x00\\x00\\x00\\x00\\x00\\x00\\x00\\x00\\x00\\x00@@\\x00\\x00\\x00\\x00\\x00\\x00\\x00\\x00\\x00\\x00\\x00\\x00\\x00\\x00\\x00\\x00\\x00\\x00\\x00\\x00\\x00\\x00\\x00\\x00\\x00\\x00\\x00\\x00\\x00\\x00\\x00\\x00\\x00\\x00\\x80?\\x00\\x00\\x00\\x00\\x00\\x00\\x00\\x00\\x00\\x00\\x00\\x00\\x00\\x00\\x00\\x00\\x00\\x00\\x00\\x00\\x00\\x00\\x00\\x00\\x00\\x00\\x00\\x00\\x00\\x00\\x00\\x00\\x00\\x00\\x00\\x00\\x00\\x00\\x00\\x00\\x00\\x00\\x00\\x00\\x00\\x00\\x00\\x00\\x00\\x00\\x00\\x00\\x00\\x00\\x00\\x00\\x00\\x00\\x00\\x00\\x00\\x00\\x00\\x00\\x00\\x00\\x00\\x00\\x00\\x00\\x00\\x00\\x00\\x00\\x00\\x00\\x00\\x00\\x00\\x00\\x00\\x00\\x00\\x00\\x00\\x00\\x00\\x00\\x00\\x00\\x00\\x00\\x00\\x00\\x00\\x00\\x00\\x00\\x00\\x00\\x00\\x00\\x00\\x00\\x00\\x00\\x00\\x00\\x00\\x00\\x00\\x00\\x00\\x00\\xe0@\\x00\\x00\\x00\\x00\\x00\\x00\\x00\\x00\\x00\\x00\\x00A\\x00\\x00\\x00\\x00\\x00\\x00\\x00\\x00\\x00\\x00\\x00\\x00\\x00\\x00\\x80?\\x00\\x00\\x00\\x00\\x00\\x00\\x80?\\x00\\x00\\x00\\x00\\x00\\x00\\x00\\x00\\x00\\x00@@\\x00\\x00\\x00\\x00\\x00\\x00\\x00\\x00\\x00\\x00\\x00\\x00\\x00\\x00\\x00\\x00\\x00\\x00\\x00\\x00\\x00\\x00\\x00\\x00\\x00\\x00\\x00\\x00\\x00\\x00\\x00\\x00\\x00\\x00\\x00\\x00\\x00\\x00\\x00\\x00\\x00\\x00\\x00\\x00\\x00\\x00\\x00\\x00\\x00\\x00\\x80@\\x00\\x00\\x00\\x00\\x00\\x00\\x00\\x00\\x00\\x00\\x00\\x00\\x00\\x00\\x00\\x00\\x00\\x00\\x00\\x00\\x00\\x00\\x00\\x00\\x00\\x00\\x00\\x00\\x00\\x00\\x00\\x00\\x00\\x00\\x00\\x00\\x00\\x00@@\\x00\\x00\\x00\\x00\\x00\\x00\\x00\\x00\\x00\\x00\\x00\\x00\\x00\\x00\\x00\\x00\\x00\\x00\\x00\\x00\\x00\\x00\\x00\\x00\\x00\\x00\\x00\\x00\\x00\\x00\\x00\\x00\\x00\\x00\\x00\\x00\\x00\\x00\\x00\\x00\\x00\\x00\\x00\\x00\\x00\\x00\\x00\\x00\\x00\\x00\\x00\\x00\\x00\\x00\\x00\\x00\\x00\\x00\\x00\\x00\\x00\\x00\\x00\\x00\\x00\\x00\\x00\\x00\\x00\\x00\\x80?\\x00\\x00\\x00\\x00\\x00\\x00\\x00\\x00\\x00\\x00\\x00\\x00\\x00\\x00\\x00\\x00\\x00\\x00\\x00@\\x00\\x00\\x00\\x00\\x00\\x00\\x00\\x00\\x00\\x00\\x00\\x00\\x00\\x00\\x00\\x00\\x00\\x00\\x00\\x00\\x00\\x00\\x00\\x00\\x00\\x00\\x00\\x00\\x00\\x00\\x00\\x00\\x00\\x00\\x00\\x00\\x00\\x00\\x00\\x00\\x00\\x00\\x00\\x00\\x00\\x00\\x00\\x00\\x00\\x00\\x00\\x00\\x00\\x00\\x00\\x00\\x00\\x00\\x00\\x00\\x00\\x00\\x00\\x00\\x00\\x00\\x00\\x00\\x00\\x00\\x00\\x00\\x00\\x00\\x00\\x00\\x00\\x00\\x00\\x00\\x00\\x00\\x00\\x00\\x00\\x00\\x00\\x00\\x00\\x00\\x00\\x00\\x00\\x00\\x00\\x00\\x00\\x00\\x00\\x00\\x00\\x00\\x00\\x00\\x00\\x00\\x00\\x00\\x00\\x00\\x00\\x00\\x00\\x00\\x00\\x00\\x00\\x00\\x00\\x00\\x00\\x00\\x00\\x00\\x00\\x00\\x00\\x00\\x00\\x00\\x00\\x00\\x00\\x00\\x80?\\x00\\x00\\x00\\x00\\x00\\x00\\x00\\x00\\x00\\x00\\x00\\x00\\x00\\x00\\x00\\x00\\x00\\x00\\x00\\x00\\x00\\x00\\x00\\x00\\x00\\x00\\x00\\x00\\x00\\x00\\x00\\x00\\x00\\x00\\x00\\x00\\x00\\x00\\x00\\x00\\x00\\x00\\x00\\x00\\x00\\x00\\x00\\x00\\x00\\x00\\x00\\x00\\x00\\x00\\x00\\x00\\x00\\x00\\x00\\x00\\x00\\x00\\x00\\x00\\x00\\x00\\x00\\x00\\x00\\x00\\x80?\\x00\\x00\\x00\\x00\\x00\\x00\\x00\\x00\\x00\\x00\\x00\\x00\\x00\\x00\\x00\\x00\\x00\\x00\\x00\\x00\\x00\\x00\\x00\\x00\\x00\\x00\\x80?\\x00\\x00\\x00\\x00\\x00\\x00\\x00\\x00\\x00\\x00\\x00\\x00\\x00\\x00\\x00\\x00\\x00\\x00\\x00\\x00\\x00\\x00\\x00\\x00\\x00\\x00\\x00\\x00\\x00\\x00\\x00\\x00\\x00\\x00\\x00\\x00\\x00\\x00\\x00\\x00\\x00\\x00\\x00\\x00\\x00\\x00\\x00\\x00\\x00\\x00\\x00\\x00\\x00\\x00\\x80?\\x00\\x00\\x00\\x00\\x00\\x00\\x00\\x00\\x00\\x00\\x00\\x00\\x00\\x00\\x00\\x00\\x00\\x00\\x00\\x00\\x00\\x00\\x80?\\x00\\x00\\x00\\x00\\x00\\x00\\x00\\x00\\x00\\x00\\x00\\x00\\x00\\x00\\x00\\x00\\x00\\x00\\x00\\x00\\x00\\x00\\x00\\x00\\x00\\x00\\x00\\x00\\x00\\x00\\x80?\\x00\\x00\\x00\\x00\\x00\\x00\\x80?\\x00\\x00\\x00\\x00\\x00\\x00\\x00\\x00\\x00\\x00\\x00\\x00\\x00\\x00\\x00\\x00\\x00\\x00\\x00\\x00\\x00\\x00\\xe0@\\x00\\x00\\x00\\x00\\x00\\x00\\x00\\x00\\x00\\x00\\x00\\x00\\x00\\x00\\x80?\\x00\\x00\\x00\\x00\\x00\\x00\\x00\\x00\\x00\\x00\\x80?\\x00\\x00\\x80?\\x00\\x00\\x00\\x00\\x00\\x00\\x00\\x00\\x00\\x00\\x00\\x00\\x00\\x00\\x00\\x00\\x00\\x00\\x00\\x00\\x00\\x00\\x00\\x00z\\xcf\\xbaEHY\\xc5E\\x08bYE\\xf2\\x87\\xb1E\\xfb\\x9c\\xc1E\\x92\\xd2\\xecEB\\x9b/FW\\x11\\xb2EV\\xdb\\xd7E\\x98$\\xcdE@\\xe1\\xecE\\x1c\\xcc\\x8dE\\x8b\\xdf\\x8fE\\xb2\\xfb\\x9aE6\\xd4\\xb9E[\\xa5\\x11F\\xf5\\xce\\x9bE\\\\\\xdb\\x0eF\\x1b\\xf2\\xa5E\\x04b\\xaaEp\\x07\\x84E\\xa6\\x01\\xb3E\"\\xc9\\xddE\\xd2\\x1eLE\\xa2\\x06\\x93E\\xad^\\xf1E\\xd2\\xfc\\x8fEs\\x81\\xc9E\\xfc\\x8dHF\\x15e\\x8fF\\xc510F\\x89\\x86\\x80E\\x97\\xd2\\x14F\\x9f\\xa5\\xafE\\xeb\\xe2\\xf9E\\xf5\\xa6\\xd9E\\xc3T)F\\xdf\\xb5\\xf5F\\xdd\"\\x06F\\xd0\\x0byE\\x17\\x83\\xe0E\\xeb\\xf12F\\xca\\xe42G\\x02s\\x83F\\xd3F\\xe5F\\xb0\\xf5\\x9bE\\xa30\\xc1E\\x1a\\x12qE<\\xae\\x93E\\xd2\\\\\\xd5EfFmF\\xf3FmF\\\\\\xef\\xd7E\\n\\xab\\xb6E\\x9dT\\xffE\\xec\\x8e\\x7fE\\xd0\\x18tE]\\x12\\xb4Fi\\xb4\\x9fF5\\xdb\\xe2Fd\\xdeEF#]\\xb6Epu\\rF\\x01\\xe0/E\\x88@PEO\\\\\\xdbEy\\n\\x0bG\"\\xc8;F/-\\xa4E\\xe4\\xd4\\x83Ex\\xf9hE1\\t\\xa4E\\xc5\\r\\x9cE\\x198\\x1cF\\x8fDHFp\\xa4\\x08G\\xab\\xf2\\xffEBz\\xdbE\\xdd(mEq\\x16\\x86E\\xe0\\xe5\\xa4E\\x80+3F\\xd7\\xef\\x11G\\x8dehF\\xb4\\xfa\\xe3EnG7F\\xa6R\\x13FAR\\xb3E-\\xee=E\\xbe\\xa2\\xafE&\\xd3\\xfdE\\n\\xfeIFA\\xa7\\x02F}{\\xc8E\\xdb\\x03\\xcbE\\x90\\x98\\x94E\\xaeqtE\\x8e\\xd4\\xffF76\\x02G\\xb0\\x1c\\xabF\\xc1&kF\\xe9\\xea\\xadE9\\xad\\x98E\\xf4d\\x87E1J%F&\\xd1\\x00FX\\xaa\\xaeF\\xa3\\xce\\x9dFi\\x92&Fx\\n\\xf0E\\xc5\\xb7\\x93E\\xfc\\x0b\\x9bE\\xa0\\x1f\\xabE\\xb1V\\x12F\\xb0\\xbf\\x8aF\\xef\"UF\\xca\\x9f\\xe0E\\x0c\\xc0\\x05F\\xa4\\xa2&FD\\x84\\xb1E!\\x94\\xb0Es\\xef5F\\xa5[\\xb8F\\xf8\\xda`Flk\\xa2F\\xde\\x8e\\x08F\\x83UFE\\x04GlE6\\xf1\\xbfE\\xaa!\\x9eE\\xcc\\x86\\xafE\\xe8\\xdf\\x02F\\x04/\\xd0E/\\xa6\\xbaE\\xa4Z\\x9cE\\x07F\\x98E\\xb7\\xa3\\x07F\\xdf|\\xd0E{<\\xa1E\\x9b\\xf9\\xd4EB\\xc2\\xbbE\\x98\\xb9\\xd4E\\xbc\\xaa\\xe5E\\xea\\xb5\\x8eEz\\xa9\\xa3E\\xbd^\\xb5E4o\\x8bE\\xcb\\xbf\\xe2E8\\xb4\\xdeE\\xd0\\xeb\\xadE+\\x1f\\xccE\\x12\\xa9\\xc0Ei\\x82\\x8eE\\xb3^\\xa1ES\\xa7\\xa2E\\xae\\x1b\\xb3E\\x8ch\\x9fEPCxE\\x83\\xea\\x9eE22\\xdeE\\x8b\\xc78E\\x91\\x876EX]jE)\\xde1E\\x80m\\xa1ER8\\x8bE1\\xca}E\\xa1nSE\\xe4\\xe2\\x1bE(;\\nEK\\x19xE\\xef\\x1e\\x8dE>\\x1c\\x80E|k\\x9eEXT\\xa8E2z\\x88E\\xad+QE\\x9c\\x86ME\\xa2\\xd9\\x8fE\\xcf;\\x91Ef+NF#\\xa7\\xa2E\\x8a\\x9bbE\\xf5\\xf4XE\\xf0-4E\\x9a\\x04yE\\xef\\x91\\x9aE\\xb7q\\x81E;\\x9d\\x83E_\\xae_EM\\xfd@El\\n{E2\\x9d\\xe8E\\xb0\\x95\\xb2EV6\\x12F\\x96\\x07\\xe0E\\xea\\x9a\\xe3E\\xf0\\xf7\\xa7F\\xfd\\x1b.F\\xf4)\\xe8E\\xc6F\\xc8E\\xed\\x01\\xa9E\\xc0\\xcf\\xfeE\\x9e\\xdd\\xb5E\\xe4\\xd3\\x01F>%\\xa2F\\xa0r\\xbbE\\x08\\x0f;F\\x81\\xb6\\xedEli\\xe2E\\xfc\\xd3\\xf6E\\x9e\\x9fAF\\xec\\xdb[F\\x9f\\xcf\\xdbE\\xf5K\\xd3E\\xf5G\\x97EDc\\x02F\\xfc6\\xecE\\xa7\\x83\\x00F\\xeb\\xa8\\xf9E\\xf9\\x98\\xf3E\\xce\\xe1\\xf6E\\xf3\\xa1\\xcfE\\xf1\"\\xecE;\\x9d\\x0cF\\x15\\xdc\\x1eFI\\xf8TF\\x86\\xf3\\x1aFe\\x8c#F\\xf56\\x01F\\xec\\xceWFR\\x18\\x01F\\xd7\\x18\\xabE\\x16\\xbd:F\\xc9\\x14\\x18FJ\\x18\\x1dF\\x9f\\x97\\x9bE\\x82I\\x07F\\nV\\xe9E28\\xacEI\\xa8\\xf1E\\x13\\xd2\\x13F\\xad\\xb6\\xc6E\\x1cz\\xc6E[\\xd1\\xeeE6\\xcc\\xb0F~\\xbf\\xf5E\\xd2[\\xe6E\\xfa\\xee\\x07F\\xfeMGG\\xd0\\x91\\x00F\\xe6Y\\xe5E\\xf3$HF\\xf8\\xd2<F\\x8c\\xe3\\xbdE\\xe1\\xda\\x91E',\n",
       "   b'i': b'\\x00\\x00\\x00\\x00\\x00\\x00\\x00\\x00'}))"
      ]
     },
     "execution_count": 41,
     "metadata": {},
     "output_type": "execute_result"
    }
   ],
   "source": [
    "tx4[0],txa[0],sb4[0],sba[0],bs4[0],bsa[0]"
   ]
  },
  {
   "cell_type": "code",
   "execution_count": 10,
   "metadata": {},
   "outputs": [],
   "source": [
    "for i in range(10000-100):\n",
    "    if not rn_all[i][1][b'samples']==rn_old[i+4][1][b'samples']:\n",
    "        print(0)"
   ]
  },
  {
   "cell_type": "code",
   "execution_count": 171,
   "metadata": {},
   "outputs": [
    {
     "data": {
      "text/plain": [
       "array([0., 0., 0., 0., 0., 0., 0., 0., 0., 0., 0., 0., 0., 1., 0., 1., 0.,\n",
       "       0., 0., 0., 0., 0., 0., 0., 0., 0., 0., 0., 0., 4., 0., 0., 0., 0.,\n",
       "       0., 0., 0., 0., 7., 0., 0., 0., 1., 1., 0., 0., 0., 0., 0., 0., 4.,\n",
       "       0., 1., 1., 0., 0., 0., 0., 0., 0., 0., 0., 0., 0., 0., 0., 0., 0.,\n",
       "       0., 0., 0., 0., 0., 0., 0., 0., 0., 0., 0., 0., 0., 0., 0., 2., 0.,\n",
       "       0., 2., 0., 0., 0., 0., 6., 0., 0., 0., 0., 0., 0., 0., 0., 2., 0.,\n",
       "       0., 0., 0., 0., 0., 0., 0., 0., 0., 0., 0., 1., 0., 0., 0., 0., 0.,\n",
       "       0., 0., 0., 1., 2., 0., 0., 0., 0., 0., 0., 0., 0., 0., 0., 0., 0.,\n",
       "       0., 0., 0., 0., 0., 0., 0., 0., 0., 0., 7., 0., 0., 0., 0., 0., 0.,\n",
       "       0., 0., 0., 0., 0., 0., 0., 0., 0., 0., 0., 0., 0., 0., 0., 0., 0.,\n",
       "       0., 0., 0., 0., 0., 0., 0., 0., 0., 0., 0., 0., 0., 0., 0., 0., 0.,\n",
       "       0., 0., 0., 0., 0., 0., 0., 0., 0., 0., 0., 0., 0., 0., 0., 0., 0.,\n",
       "       0., 0., 0., 0., 0., 0., 0., 0., 0., 0., 0., 0., 0., 0., 0., 1., 0.,\n",
       "       0., 0., 0., 0., 0., 0., 0., 0., 0., 0., 0., 0., 0., 0., 1., 0., 0.,\n",
       "       0., 0., 0., 9., 0., 0., 0., 1., 0., 0., 0., 0., 0., 0., 0., 0., 0.,\n",
       "       0.], dtype=float32)"
      ]
     },
     "execution_count": 171,
     "metadata": {},
     "output_type": "execute_result"
    }
   ],
   "source": [
    "np.frombuffer(tx4_data[b'samples'],dtype=np.float32)[:256]"
   ]
  },
  {
   "cell_type": "code",
   "execution_count": 46,
   "metadata": {},
   "outputs": [
    {
     "name": "stdout",
     "output_type": "stream",
     "text": [
      "995\n"
     ]
    }
   ],
   "source": [
    "cnt=0\n",
    "for i in range(1000-5):\n",
    "    idx,tx4_data =tx4[i]\n",
    "    idx,txa_data = txa[i]\n",
    "    idx,sb4_data =sb4[i]\n",
    "    idx,sba_data = sba[i]\n",
    "    idx,bs4_data =bs4[i]\n",
    "    idx,bsa_data = bsa[i]\n",
    "    p4=np.frombuffer(sb4_data[b'samples'],dtype=np.float32)\n",
    "    pa=np.frombuffer(sba_data[b'samples'],dtype=np.float32)\n",
    "    c4=np.frombuffer(tx4_data[b'crossings'],dtype=np.int16)\n",
    "    ca=np.frombuffer(txa_data[b'crossings'],dtype=np.int16)\n",
    "    b4=np.frombuffer(bs4_data[b'samples'],dtype=np.float32)[:256]\n",
    "    ba=np.frombuffer(bsa_data[b'samples'],dtype=np.float32)[:256]\n",
    "    # if not json.loads(tx4_data[b'sync'])['nsp_idx_1']==json.loads(txa_data[b'sync'])['nsp_idx_1']:\n",
    "    #     break\n",
    "    if np.all(np.isclose(b4,ba)) and not np.all(np.isclose(p4,pa)) and np.all(np.isclose(c4,ca)):cnt+=1\n",
    "if cnt:\n",
    "    print(cnt)"
   ]
  },
  {
   "cell_type": "code",
   "execution_count": null,
   "metadata": {},
   "outputs": [],
   "source": [
    "buffer_num=0\n",
    "cross_bin_buffer4 = np.zeros((256,10),np.int16)\n",
    "cross_bin_buffera = np.zeros((256,10),np.int16)\n",
    "ak=5\n",
    "for i in range(10):\n",
    "\n",
    "    cross_bin_buffer4[:, i] = np.frombuffer(tx4[5+i][1][b'crossings'],dtype=np.int16)\n",
    "    cross_bin_buffera[:, i] = np.frombuffer(txa[+i][1][b'crossings'],dtype=np.int16)"
   ]
  },
  {
   "cell_type": "code",
   "execution_count": null,
   "metadata": {},
   "outputs": [],
   "source": [
    "aa=cross_bin_buffera.sum(axis=1)\n",
    "ba=np.frombuffer(bsa[1][1][b'samples'],dtype=np.float32)[:256]\n",
    "\n",
    "a4=cross_bin_buffer4.sum(axis=1)\n",
    "b4=np.frombuffer(bs4[0][1][b'samples'],dtype=np.float32)[:256]\n"
   ]
  },
  {
   "cell_type": "code",
   "execution_count": 246,
   "metadata": {},
   "outputs": [
    {
     "name": "stdout",
     "output_type": "stream",
     "text": [
      "True True False False\n"
     ]
    }
   ],
   "source": [
    "print(np.all(aa==ba),np.all(a4==b4),np.all(aa==a4),np.all(ba==b4))"
   ]
  },
  {
   "cell_type": "code",
   "execution_count": null,
   "metadata": {},
   "outputs": [
    {
     "data": {
      "text/plain": [
       "array([ True,  True,  True,  True,  True,  True,  True,  True,  True,\n",
       "        True,  True,  True,  True,  True,  True,  True,  True,  True,\n",
       "        True,  True,  True,  True,  True,  True,  True,  True,  True,\n",
       "        True,  True,  True,  True,  True,  True,  True,  True,  True,\n",
       "        True,  True,  True,  True,  True,  True,  True,  True,  True,\n",
       "        True,  True,  True,  True,  True,  True,  True,  True,  True,\n",
       "        True,  True,  True,  True,  True,  True,  True,  True,  True,\n",
       "        True,  True,  True,  True,  True,  True,  True,  True,  True,\n",
       "        True,  True,  True,  True,  True,  True,  True,  True,  True,\n",
       "        True,  True,  True,  True,  True,  True,  True,  True,  True,\n",
       "        True,  True,  True,  True,  True,  True,  True,  True,  True,\n",
       "        True,  True,  True,  True,  True,  True,  True,  True,  True,\n",
       "        True,  True,  True,  True,  True,  True,  True,  True,  True,\n",
       "        True,  True,  True,  True,  True,  True,  True,  True,  True,\n",
       "        True,  True,  True,  True,  True,  True,  True,  True,  True,\n",
       "        True,  True,  True,  True,  True,  True,  True,  True,  True,\n",
       "        True,  True,  True,  True,  True,  True,  True,  True,  True,\n",
       "        True,  True,  True,  True,  True,  True,  True,  True,  True,\n",
       "        True,  True,  True,  True,  True,  True,  True,  True,  True,\n",
       "        True,  True,  True,  True,  True,  True,  True,  True,  True,\n",
       "        True,  True,  True,  True,  True,  True,  True,  True,  True,\n",
       "        True,  True,  True,  True,  True,  True,  True,  True,  True,\n",
       "        True,  True,  True,  True,  True,  True,  True,  True,  True,\n",
       "        True,  True,  True,  True,  True,  True,  True,  True,  True,\n",
       "        True,  True,  True,  True,  True,  True,  True,  True,  True,\n",
       "        True,  True,  True,  True,  True,  True,  True,  True,  True,\n",
       "        True,  True,  True,  True,  True,  True,  True,  True,  True,\n",
       "        True,  True,  True,  True,  True,  True,  True,  True,  True,\n",
       "        True,  True,  True,  True])"
      ]
     },
     "execution_count": 237,
     "metadata": {},
     "output_type": "execute_result"
    }
   ],
   "source": []
  },
  {
   "cell_type": "code",
   "execution_count": 232,
   "metadata": {},
   "outputs": [
    {
     "data": {
      "text/plain": [
       "array([0., 0., 0., 0., 0., 0., 0., 0., 0., 0., 0., 0., 0., 0., 0., 1., 0.,\n",
       "       0., 0., 0., 0., 0., 0., 0., 0., 0., 0., 0., 1., 2., 2., 0., 0., 0.,\n",
       "       0., 0., 0., 0., 8., 0., 0., 0., 2., 1., 0., 0., 0., 0., 0., 0., 4.,\n",
       "       1., 0., 0., 0., 0., 0., 0., 0., 2., 0., 0., 0., 0., 0., 0., 0., 0.,\n",
       "       0., 0., 0., 0., 0., 0., 0., 0., 0., 0., 0., 0., 0., 0., 0., 0., 0.,\n",
       "       0., 0., 0., 0., 0., 0., 6., 0., 0., 0., 0., 0., 0., 0., 0., 1., 0.,\n",
       "       0., 0., 0., 0., 0., 0., 0., 0., 0., 0., 0., 0., 0., 0., 0., 0., 1.,\n",
       "       0., 0., 0., 0., 3., 0., 0., 0., 0., 0., 0., 0., 0., 0., 0., 0., 0.,\n",
       "       0., 0., 0., 0., 0., 0., 0., 0., 0., 0., 7., 0., 0., 0., 0., 0., 0.,\n",
       "       0., 0., 0., 0., 0., 0., 0., 0., 0., 0., 0., 0., 0., 0., 0., 0., 0.,\n",
       "       0., 0., 0., 0., 0., 0., 0., 0., 0., 0., 1., 0., 0., 0., 0., 0., 0.,\n",
       "       0., 0., 0., 0., 0., 0., 0., 0., 0., 0., 1., 0., 0., 0., 0., 0., 0.,\n",
       "       0., 2., 0., 0., 0., 0., 0., 0., 0., 0., 0., 0., 0., 0., 0., 0., 0.,\n",
       "       0., 0., 0., 0., 0., 0., 0., 0., 0., 0., 0., 0., 1., 0., 0., 0., 0.,\n",
       "       0., 0., 0., 9., 0., 0., 0., 0., 0., 0., 0., 1., 0., 0., 0., 0., 0.,\n",
       "       0.], dtype=float32)"
      ]
     },
     "execution_count": 232,
     "metadata": {},
     "output_type": "execute_result"
    }
   ],
   "source": [
    "np.frombuffer(bs4[0][1][b'samples'],dtype=np.float32)[:256]"
   ]
  },
  {
   "cell_type": "code",
   "execution_count": 219,
   "metadata": {},
   "outputs": [
    {
     "data": {
      "text/plain": [
       "(9956, 9945)"
      ]
     },
     "execution_count": 219,
     "metadata": {},
     "output_type": "execute_result"
    }
   ],
   "source": [
    "json.loads(bs4_data[b'sync'])['nsp_idx_1'],json.loads(bsa_data[b'sync'])['nsp_idx_1']"
   ]
  },
  {
   "cell_type": "code",
   "execution_count": 235,
   "metadata": {},
   "outputs": [
    {
     "data": {
      "text/plain": [
       "((b'1733891600982-0',\n",
       "  {b'sync': b'{\"nsp_idx_1\": 5}',\n",
       "   b'ts': b'\\x12\\xfd\\x16\\xcdY\\xd2\\x06\\x00',\n",
       "   b'timestamps': b'\\x01\\x00\\x00\\x00\\x00\\x00\\x00\\x00',\n",
       "   b'crossings': b'\\x00\\x00\\x00\\x00\\x00\\x00\\x00\\x00\\x00\\x00\\x00\\x00\\x00\\x00\\x00\\x00\\x00\\x00\\x00\\x00\\x00\\x00\\x00\\x00\\x00\\x00\\x00\\x00\\x00\\x00\\x00\\x00\\x00\\x00\\x00\\x00\\x00\\x00\\x00\\x00\\x00\\x00\\x00\\x00\\x00\\x00\\x00\\x00\\x00\\x00\\x00\\x00\\x00\\x00\\x00\\x00\\x00\\x00\\x01\\x00\\x00\\x00\\x00\\x00\\x00\\x00\\x00\\x00\\x00\\x00\\x00\\x00\\x00\\x00\\x00\\x00\\x01\\x00\\x00\\x00\\x00\\x00\\x00\\x00\\x00\\x00\\x00\\x00\\x00\\x00\\x00\\x00\\x00\\x00\\x00\\x00\\x00\\x00\\x00\\x00\\x01\\x00\\x00\\x00\\x00\\x00\\x00\\x00\\x00\\x00\\x00\\x00\\x00\\x00\\x00\\x00\\x00\\x00\\x00\\x00\\x00\\x00\\x00\\x00\\x00\\x00\\x00\\x00\\x00\\x00\\x00\\x00\\x00\\x00\\x00\\x00\\x00\\x00\\x00\\x00\\x00\\x00\\x00\\x00\\x00\\x00\\x00\\x00\\x00\\x00\\x00\\x00\\x00\\x00\\x00\\x00\\x00\\x00\\x00\\x00\\x00\\x00\\x01\\x00\\x00\\x00\\x00\\x00\\x00\\x00\\x00\\x00\\x00\\x00\\x00\\x00\\x01\\x00\\x00\\x00\\x00\\x00\\x01\\x00\\x00\\x00\\x00\\x00\\x00\\x00\\x01\\x00\\x00\\x00\\x01\\x00\\x00\\x00\\x00\\x00\\x00\\x00\\x00\\x00\\x00\\x00\\x00\\x00\\x00\\x00\\x00\\x00\\x00\\x00\\x00\\x00\\x00\\x00\\x00\\x00\\x00\\x00\\x00\\x00\\x00\\x00\\x00\\x00\\x00\\x00\\x00\\x00\\x00\\x00\\x00\\x00\\x00\\x00\\x00\\x00\\x00\\x00\\x00\\x00\\x00\\x00\\x01\\x00\\x00\\x00\\x00\\x00\\x00\\x00\\x00\\x00\\x00\\x00\\x00\\x00\\x00\\x00\\x00\\x00\\x00\\x00\\x00\\x00\\x00\\x00\\x00\\x00\\x00\\x00\\x00\\x00\\x00\\x00\\x00\\x00\\x00\\x00\\x00\\x00\\x00\\x00\\x00\\x00\\x00\\x00\\x00\\x00\\x01\\x00\\x00\\x00\\x00\\x00\\x00\\x00\\x00\\x00\\x00\\x00\\x00\\x00\\x00\\x00\\x00\\x00\\x00\\x00\\x00\\x00\\x00\\x00\\x00\\x00\\x00\\x00\\x00\\x00\\x00\\x00\\x00\\x00\\x00\\x00\\x00\\x00\\x00\\x00\\x00\\x00\\x00\\x00\\x00\\x00\\x00\\x00\\x00\\x00\\x00\\x00\\x00\\x00\\x00\\x00\\x00\\x00\\x00\\x00\\x00\\x00\\x00\\x00\\x00\\x00\\x00\\x00\\x00\\x00\\x00\\x00\\x00\\x00\\x00\\x00\\x00\\x00\\x00\\x00\\x00\\x00\\x00\\x00\\x00\\x00\\x00\\x00\\x00\\x00\\x00\\x00\\x00\\x00\\x00\\x00\\x00\\x00\\x00\\x00\\x00\\x00\\x00\\x00\\x00\\x00\\x00\\x00\\x01\\x00\\x00\\x00\\x00\\x00\\x00\\x00\\x00\\x00\\x00\\x00\\x00\\x00\\x00\\x00\\x00\\x00\\x00\\x00\\x00\\x00\\x00\\x00\\x00\\x00\\x00\\x00\\x00\\x00\\x00\\x00\\x00\\x00\\x00\\x00\\x00\\x00\\x01\\x00\\x00\\x00\\x00\\x00\\x00\\x00\\x00\\x00\\x00\\x00\\x00\\x00\\x00\\x00\\x00\\x00\\x00\\x00\\x00\\x00\\x00\\x00\\x00\\x00\\x00\\x00\\x00\\x00\\x00\\x00\\x01\\x00\\x00\\x00\\x00\\x00\\x00\\x00\\x00\\x00\\x00\\x00\\x01\\x00\\x00\\x00\\x00\\x00\\x00\\x00\\x01\\x00\\x00\\x00\\x00\\x00\\x00\\x00\\x00\\x00\\x00\\x00\\x00\\x00\\x00\\x00\\x00\\x00\\x00\\x00\\x00\\x00'}),\n",
       " (b'1733891600991-0',\n",
       "  {b'sync': b'{\"nsp_idx_1\": 5}',\n",
       "   b'ts': b'\\xd1\\xcc\\x9a\\xcdY\\xd2\\x06\\x00',\n",
       "   b'timestamps': b'\\n\\x00\\x00\\x00\\x00\\x00\\x00\\x00',\n",
       "   b'samples': b'\\x00\\x00\\x00\\x00\\x00\\x00\\x00\\x00\\x00\\x00\\x00\\x00\\x00\\x00\\x00\\x00\\x00\\x00\\x00\\x00\\x00\\x00\\x00\\x00\\x00\\x00\\x00\\x00\\x00\\x00\\x00\\x00\\x00\\x00\\x00\\x00\\x00\\x00\\x00\\x00\\x00\\x00\\x00\\x00\\x00\\x00\\x00\\x00\\x00\\x00\\x00\\x00\\x00\\x00\\x00\\x00\\x00\\x00\\x00\\x00\\x00\\x00\\x80?\\x00\\x00\\x00\\x00\\x00\\x00\\x00\\x00\\x00\\x00\\x00\\x00\\x00\\x00\\x00\\x00\\x00\\x00\\x00\\x00\\x00\\x00\\x00\\x00\\x00\\x00\\x00\\x00\\x00\\x00\\x00\\x00\\x00\\x00\\x00\\x00\\x00\\x00\\x00\\x00\\x00\\x00\\x00\\x00\\x00\\x00\\x00\\x00\\x00\\x00\\x00\\x00\\x00\\x00\\x00@\\x00\\x00\\x00@\\x00\\x00\\x00\\x00\\x00\\x00\\x80?\\x00\\x00\\x00\\x00\\x00\\x00\\x00\\x00\\x00\\x00\\x00\\x00\\x00\\x00\\x00\\x00\\x00\\x00\\x00\\x00\\x00\\x00\\x00A\\x00\\x00\\x00\\x00\\x00\\x00\\x00\\x00\\x00\\x00\\x00\\x00\\x00\\x00\\x80?\\x00\\x00\\x00\\x00\\x00\\x00\\x00\\x00\\x00\\x00\\x00\\x00\\x00\\x00\\x00\\x00\\x00\\x00\\x00\\x00\\x00\\x00\\x00\\x00\\x00\\x00\\x00\\x00\\x00\\x00\\x80@\\x00\\x00\\x00\\x00\\x00\\x00\\x00\\x00\\x00\\x00\\x00\\x00\\x00\\x00\\x00\\x00\\x00\\x00\\x00\\x00\\x00\\x00\\x00\\x00\\x00\\x00\\x00\\x00\\x00\\x00\\x00\\x00\\x00\\x00\\x80?\\x00\\x00\\x00\\x00\\x00\\x00\\x00\\x00\\x00\\x00\\x00\\x00\\x00\\x00\\x00\\x00\\x00\\x00\\x00\\x00\\x00\\x00\\x00\\x00\\x00\\x00\\x00\\x00\\x00\\x00\\x00\\x00\\x00\\x00\\x00\\x00\\x00\\x00\\x00\\x00\\x00\\x00\\x00\\x00\\x00\\x00\\x00\\x00\\x00\\x00\\x00\\x00\\x00\\x00\\x00\\x00\\x00\\x00\\x00\\x00\\x00\\x00\\x00\\x00\\x00\\x00\\x00\\x00\\x00\\x00\\x00\\x00\\x00\\x00\\x00\\x00\\x00\\x00\\x00\\x00\\x00\\x00\\x00\\x00\\x00\\x00\\x80?\\x00\\x00\\x00\\x00\\x00\\x00\\x00\\x00\\x00\\x00\\x00\\x00\\x00\\x00\\x00\\x00\\x00\\x00\\x00\\x00\\x00\\x00\\x00\\x00\\x00\\x00\\x80?\\x00\\x00\\x00\\x00\\x00\\x00\\x00\\x00\\x00\\x00\\xc0@\\x00\\x00\\x00\\x00\\x00\\x00\\x00\\x00\\x00\\x00\\x00\\x00\\x00\\x00\\x80?\\x00\\x00\\x00\\x00\\x00\\x00\\x80?\\x00\\x00\\x00\\x00\\x00\\x00\\x00\\x00\\x00\\x00\\x80?\\x00\\x00\\x00\\x00\\x00\\x00\\x00\\x00\\x00\\x00\\x00\\x00\\x00\\x00\\x00\\x00\\x00\\x00\\x00\\x00\\x00\\x00\\x00\\x00\\x00\\x00\\x00\\x00\\x00\\x00\\x00\\x00\\x00\\x00\\x00\\x00\\x00\\x00\\x00\\x00\\x00\\x00\\x00\\x00\\x00\\x00\\x00\\x00\\x00\\x00\\x80?\\x00\\x00\\x00\\x00\\x00\\x00\\x00\\x00\\x00\\x00\\x00\\x00\\x00\\x00\\x00\\x00\\x00\\x00\\x00\\x00\\x00\\x00\\x00\\x00\\x00\\x00\\x00\\x00\\x00\\x00\\x00\\x00\\x00\\x00\\x00\\x00\\x00\\x00@@\\x00\\x00\\x00\\x00\\x00\\x00\\x00\\x00\\x00\\x00\\x00\\x00\\x00\\x00\\x00\\x00\\x00\\x00\\x00\\x00\\x00\\x00\\x00\\x00\\x00\\x00\\x00\\x00\\x00\\x00\\x00\\x00\\x00\\x00\\x00\\x00\\x00\\x00\\x00\\x00\\x00\\x00\\x00\\x00\\x00\\x00\\x00\\x00\\x00\\x00\\x00\\x00\\x00\\x00\\x00\\x00\\x00\\x00\\x00\\x00\\x00\\x00\\x00\\x00\\x00\\x00\\x00\\x00\\x00\\x00\\x00\\x00\\x00\\x00\\x00\\x00\\x00\\x00\\x00\\x00\\x00\\x00\\x00\\x00\\x00\\x00\\x00\\x00\\x00\\x00\\xc0@\\x00\\x00\\x00\\x00\\x00\\x00\\x00\\x00\\x00\\x00\\x00\\x00\\x00\\x00\\x00\\x00\\x00\\x00\\x00\\x00\\x00\\x00\\x00\\x00\\x00\\x00\\x00\\x00\\x00\\x00\\x00\\x00\\x00\\x00\\x00\\x00\\x00\\x00\\x00\\x00\\x00\\x00\\x00\\x00\\x00\\x00\\x00\\x00\\x00\\x00\\x00\\x00\\x00\\x00\\x00\\x00\\x00\\x00\\x00\\x00\\x00\\x00\\x00\\x00\\x00\\x00\\x00\\x00\\x00\\x00\\x00\\x00\\x00\\x00\\x00\\x00\\x00\\x00\\x00\\x00\\x00\\x00\\x00\\x00\\x00\\x00\\x00\\x00\\x00\\x00\\x00\\x00\\x00\\x00\\x00\\x00\\x00\\x00\\x00\\x00\\x00\\x00\\x00\\x00\\x00\\x00\\x00\\x00\\x00\\x00\\x00\\x00\\x00\\x00\\x00\\x00\\x00\\x00\\x00\\x00\\x00\\x00\\x00\\x00\\x00\\x00\\x00\\x00\\x00\\x00\\x00\\x00\\x00\\x00\\x80?\\x00\\x00\\x00\\x00\\x00\\x00\\x00\\x00\\x00\\x00\\x00\\x00\\x00\\x00\\x00\\x00\\x00\\x00\\x00\\x00\\x00\\x00\\x00\\x00\\x00\\x00\\x00\\x00\\x00\\x00\\x00\\x00\\x00\\x00\\x00\\x00\\x00\\x00\\x00\\x00\\x00\\x00\\x00\\x00\\x00\\x00\\x00\\x00\\x00\\x00\\x00\\x00\\x00\\x00\\x00\\x00\\x00\\x00\\x00\\x00\\x00\\x00\\x00\\x00\\x00\\x00\\x00\\x00\\x00\\x00\\x80?\\x00\\x00\\x00\\x00\\x00\\x00\\x80?\\x00\\x00\\x00\\x00\\x00\\x00\\x00\\x00\\x00\\x00\\x00\\x00\\x00\\x00\\x00\\x00\\x00\\x00\\x80?\\x00\\x00\\x00\\x00\\x00\\x00\\x00\\x00\\x00\\x00\\x00\\x00\\x00\\x00\\x00\\x00\\x00\\x00\\x00\\x00\\x00\\x00\\x00\\x00\\x00\\x00\\x00\\x00\\x00\\x00\\x00\\x00\\x00\\x00\\x00\\x00\\x00\\x00\\x00\\x00\\x00\\x00\\x00\\x00\\x00\\x00\\x00\\x00\\x00\\x00\\x00\\x00\\x00\\x00\\x80?\\x00\\x00\\x00\\x00\\x00\\x00\\x00\\x00\\x00\\x00\\x00\\x00\\x00\\x00\\x00\\x00\\x00\\x00\\x00\\x00\\x00\\x00\\x00\\x00\\x00\\x00\\x00\\x00\\x00\\x00\\x00\\x00\\x00\\x00\\x00\\x00\\x00\\x00\\x00\\x00\\x00\\x00\\x00\\x00\\x00\\x00\\x00\\x00\\x00\\x00\\x00\\x00\\x00\\x00\\x80?\\x00\\x00\\x00\\x00\\x00\\x00\\x80?\\x00\\x00\\x00\\x00\\x00\\x00\\x00\\x00\\x00\\x00\\x00\\x00\\x00\\x00\\x00\\x00\\x00\\x00\\x00\\x00\\x00\\x00\\x10A\\x00\\x00\\x00\\x00\\x00\\x00\\x00\\x00\\x00\\x00\\x00\\x00\\x00\\x00\\x80?\\x00\\x00\\x00\\x00\\x00\\x00\\x00\\x00\\x00\\x00\\x00\\x00\\x00\\x00\\x00@\\x00\\x00\\x00\\x00\\x00\\x00\\x00\\x00\\x00\\x00\\x00\\x00\\x00\\x00\\x00\\x00\\x00\\x00\\x00\\x00\\x00\\x00\\x00\\x00\\xbb\\x1e\\xc9E\\xf3r\\xfbEr\\xf3sE\\xa8w\\xb8E`\\xb7\\xb3E\\xdd\\xd5\\xefE[g F7}\\xbbET\\xf9\\xd7E\\x86\\xa6\\xd8E\\xc6\\x1a\\xcbE0c\\x8bEp\\xc7\\x82EH\\xde\\x99El\\xd0\\xb6E\\xbaw8F\\xc7\\x8b\\xaaEd\\xe6%F\\x9f\\xe1\\xa1E\\xeb>\\x82E<\\x9d\\x9dE\\x8f#\\xbcEd \\xdbE\\x9d\\xa1EEV[\\x9bE%\\x8b(FQ\\x19\\x90El\\xae\\xcfE\\xa8\\xe69F\\xb4a\\x8fF\\x1d\\xb5/F\\xb2\\xbe\\x98ER\\xc5\\x0bF\\xa1\\xf2\\x11F\\x12\\xa2\\x00F\\xb1\\xdd\\xf4E\\xe1\\x88-F\\xf9\\xea\\xe1F\\x0b\\x1b\\x0cF\\xee\\x0c\\x94E\\xf5\\x96\\xd4E\\x86\\xeb?Fbs8G\\xc1\\xb8\\x8dF\\xaf\\xa2\\xe0FH\\xf2\\xc4EJ\\xe8\\xc1EV\\x84\\x80EN\\xae\\xb3EY\\x84\\xdfE0!jF\\xfc\\xa4dF\\x98\\x9e\\xe0ER\\xa1\\xa6E\\t\\x1d\\xdbE\\xba!\\x1fE\\xfb\\x05vE\\xea<\\xd4FZ\\x9c\\xb5F\\x17\\x80\\xebF\\x82\\x8dNF\\xcb\\x98\\xa1ET]\\xf9E\\x18\\xb7\\xbeE\\x9c!eE\\xa3\\x0c\\xe5E\\xf8\\xa9\\x01G\\xbc<<F\\xe8\\\\\\xb0E\\xd3?\\xa1E\\xb6\\xe9\\x95E\\x18YxENY\\x99E\\xcb\\xd9!FP\\x95;F\\xdc\\x7f\\x07G\\xdc\\xdf\\xc4E67\\x14F\\x16T4E\\x0b9\\xa1E\\xd5\\xf4\\xabE!\\x996F\\xdc)\\xfeF]spF\\xb0\\x9a\\xecE\\xba\\xfe2F<\\xf8\\x0eF\\xa2M\\xb7E\\x14\\xc2<E\\xd6\\xde\\rF\\xe9\\r\\x13F;XMF\\xfa\\x1c\\x18F>i\\xd4E{\\xa9\\xefE\\t\\x19\\x98E\\xa2\\xc9[E2\\xa7\\x07G\\xbc|\\x01G\\xe0!\\xb0F\\x98?wFi\\x16\\xa1EF\\x1b\\x8eE\\xbdR\\x8aE\\xe0_\\'F(\\xdc\\x07F\\xc6O\\xb5F\\x18\\xaa\\x9fF\\x19@\\nF\\xfa\\x1b\\xedE\\xb1\\x84\\xb5E\\x90\\xccME\\x7f\\xcf\\x97E\\x83\\xa3\\x0bFn\\x10\\x80F\\xac\\x92hF\\n\\xb7\\xdfE\\x82\\x1f\\x08F0\\xa4!F\\xc8\\xba\\xdcE@;\\xa5E\\x93\\xbb6F\\xda^\\xa1FB\\xcb`F+M\\x83F\\x1d\\xce%F\\xb2\\xfa>EF\\x02\\x97E\\xf1<\\xc6Ed\\xf0\\xa6E\\x90\\x8f\\xa4E\\xd5O\\xe4EB\\xcb\\xc0E\\xb2A\\xbdE\\xb4\\x94\\x98E\\x95\\xb4\\x85E\\x8f\\xf4\\x19F\\x1dp\\xdbEWz\\xacEB\\xf0\\xc6E\\x9f\\xcd\\xceE\\xb0{\\xd6EI\\xb2\\xffEr\\xf4\\x86E\\x18W\\x9bE\\xf1\\x90\\xb8E\\xebE\\x8aEW\\xe1\\xd9E\\xd5@\\xdaEy\\x8e\\x90E%\\x02\\xc1Em\\xdf\\x9aE*\\x94\\x9bEpJ\\x91E;l\\xa3E\\xd5\\xf8\\xb1E\\x14\\x82\\x96E\\x10\\x81PEQ\\x0e\\xa0E\\xc1\\x8a\\xdaE\\x98\\x80GE\\x14p>E\\x8aukE\\x16BREv\\xd1\\xa3E\\x16\\xd2\\x90E\\xc2O\\x7fEK\\xd6{E\\xbf\\x80 E\\xdfo\"Er\\x89wE>\\xf1\\x95E\\xfet\\x8bE.j\\x9dEE\\xc9\\xa0E\\xa7l\\x87E\\x9c`-E\\xf5\\xedCECf\\x95E\\xa2\\x85\\x9cE\\x02\\xe4VF\\x11h\\xa4E\\xff\\xc3YE \\x92kE\\xa1\\x97aE\\x05T\\x7fE\\xf5[\\xacE\\xc8\\x98\\x8bE01hE\\xac\\xa2fE;\\x06?E\\n\\xad\\x84E\\x02F\\xefE\\xc2^\\xc0E\\xd6\\xf7\\xaaE\\x1c!\\xa8E\\x1c\\xbc\\x07F\\xf9&\\x85F\\x83@9F\\xc4\\xa9\\xc1E\\x83a\\xdaEi\\xdc\\xc0EVI\\xabE\\n\\xaf\\xc7E\\x8f\\x10\\x07F\\xcb\\xb5\\x9bF\\x88\\x8c\\xc6E\\xcc\\xc74F\\xcb3\\xcdE\\xa6`\\xc6E~\\xad\\xc2EA\\x82DFQ\\x9cGF(\\xe5\\xd5E\\xad]\\xa0E\\xe3\\xcc\\xb9E\\x18Q#Fj\\x06\\xc9Er\\xb0\\x04F,\\x9d\\xf2EQl\\xfeE/\\x86\\xd4E\\xd9\\xa5\\xa7E\\x01\\x88\\xf4E \\xff\\x05FbD\\x08F\\xefMHF\\x00\\xcd\\x0fFM\\xe3\\x1eF\\xa2\\xd2\\xd8E=\\x999FR_\\xfaES\\t\\x8eE\\x93\\x02\\x10F\\r\\x0c\\x15F\\xee\\x90\\x04F\\xa8\\x08\\xa0E\\x85?\\xcdE\\x8c\\xf9\\xffE\\'\\xfd\\xb6E\\xd4\\xf8\\tF\\xc0\\xf1\\x0eFB\\x81\\xd2E\"\\x82\\xc4EI\\xc4&F\\xaaG\\xdbFn\\x85\\xe7ED6\\xc8E\\xc1d\\xecE\\xa5\\xf1>G\\xdf/\\xe7ED\\xcb\\x02F\\'\\x86bF$\\xda#F~\\x83\\xf8E\\xa9\\'\\xa5E',\n",
       "   b'i': b'\\x00\\x00\\x00\\x00\\x00\\x00\\x00\\x00'}))"
      ]
     },
     "execution_count": 235,
     "metadata": {},
     "output_type": "execute_result"
    }
   ],
   "source": [
    "txa[0],bsa[0]"
   ]
  },
  {
   "cell_type": "code",
   "execution_count": 35,
   "metadata": {},
   "outputs": [
    {
     "data": {
      "text/plain": [
       "False"
      ]
     },
     "execution_count": 35,
     "metadata": {},
     "output_type": "execute_result"
    }
   ],
   "source": [
    "c4=np.frombuffer(tx4_data[b'crossings'],dtype=np.int16)\n",
    "ca=np.frombuffer(txa_data[b'crossings'],dtype=np.int16)\n",
    "\n",
    "np.all(c4==ca)\n"
   ]
  },
  {
   "cell_type": "code",
   "execution_count": null,
   "metadata": {},
   "outputs": [],
   "source": []
  },
  {
   "cell_type": "code",
   "execution_count": null,
   "metadata": {},
   "outputs": [],
   "source": []
  },
  {
   "cell_type": "code",
   "execution_count": null,
   "metadata": {},
   "outputs": [],
   "source": []
  },
  {
   "cell_type": "markdown",
   "metadata": {},
   "source": [
    "Timing Statistics (in milliseconds):\n",
    "--------------------------------------------------------------------------------\n",
    "Operation                            Mean        Min        Max      Count\n",
    "--------------------------------------------------------------------------------\n",
    "INIT                               13.231     13.231     13.231          1\n",
    "Redis read                          0.141      0.071      4.358     134727\n",
    "Re-referencing                      0.155      0.150      0.326     134727\n",
    "Filtering                           0.261      0.251      1.021     134717\n",
    "Threshold crossing                  0.287      0.274      0.458     134717\n",
    "Spike band power                    0.004      0.003      0.027     134717\n",
    "Total Exec Time                     0.760      0.733      1.659     134717\n",
    "Redis write                         0.148      0.108      0.837     134717\n",
    "Total Time                          1.000      0.884      5.228     134717\n",
    "Binning                             0.002      0.001      0.022      13470\n",
    "Total Binning Time                 10.001      9.208     15.749      13470"
   ]
  },
  {
   "cell_type": "code",
   "execution_count": 12,
   "metadata": {},
   "outputs": [
    {
     "name": "stdout",
     "output_type": "stream",
     "text": [
      "\n",
      "Timing Statistics (in milliseconds):\n",
      "--------------------------------------------------------------------------------\n",
      "Operation                            Mean        Min        Max      Count\n",
      "--------------------------------------------------------------------------------\n",
      "INIT                               13.231     13.231     13.231          1\n",
      "Redis read                          0.141      0.071      4.358     134727\n",
      "Re-referencing                      0.155      0.150      0.326     134727\n",
      "Filtering                           0.261      0.251      1.021     134717\n",
      "Threshold crossing                  0.287      0.274      0.458     134717\n",
      "Spike band power                    0.004      0.003      0.027     134717\n",
      "Total Exec Time                     0.760      0.733      1.659     134717\n",
      "Redis write                         0.148      0.108      0.837     134717\n",
      "Total Time                          1.000      0.884      5.228     134717\n",
      "Binning                             0.002      0.001      0.022      13470\n",
      "Total Binning Time                 10.001      9.208     15.749      13470\n"
     ]
    }
   ],
   "source": [
    "##NUMBA thresh\n",
    "node.profiler.print_stats()"
   ]
  }
 ],
 "metadata": {
  "kernelspec": {
   "display_name": "rt",
   "language": "python",
   "name": "python3"
  },
  "language_info": {
   "codemirror_mode": {
    "name": "ipython",
    "version": 3
   },
   "file_extension": ".py",
   "mimetype": "text/x-python",
   "name": "python",
   "nbconvert_exporter": "python",
   "pygments_lexer": "ipython3",
   "version": "3.8.2"
  }
 },
 "nbformat": 4,
 "nbformat_minor": 4
}
