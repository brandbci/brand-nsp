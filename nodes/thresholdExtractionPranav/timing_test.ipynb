{
 "cells": [
  {
   "cell_type": "code",
   "execution_count": 11,
   "metadata": {},
   "outputs": [],
   "source": [
    "from thresholdExtractionPranav import ThresholdExtraction\n",
    "import matplotlib.pyplot as plt\n",
    "import numpy as np"
   ]
  },
  {
   "cell_type": "code",
   "execution_count": 12,
   "metadata": {
    "scrolled": true
   },
   "outputs": [
    {
     "name": "stderr",
     "output_type": "stream",
     "text": [
      "[thresh_cross_4] INFO: Loading 4 order, 250 hz highpass acausal IIR-IIR filter\n",
      "[thresh_cross_4] INFO: Loaded thresholds from the thresholds stream\n"
     ]
    },
    {
     "name": "stdout",
     "output_type": "stream",
     "text": [
      "[thresh_cross_4] Redis connection established on host: 192.168.30.6, port: 27263\n"
     ]
    }
   ],
   "source": [
    "import sys\n",
    "sys.argv = ['tx', '-n', 'thresh_cross_4', '-i', '192.168.30.6', '-p', '27263']\n",
    "\n",
    "params = {'log': 'INFO',\n",
    " 'pack_per_call': 1,\n",
    " 'thresh_mult': -4.5,\n",
    " 'thresh_calc_len': 2000,\n",
    " 'butter_lowercut': 250,\n",
    " 'butter_uppercut': None,\n",
    " 'butter_order': 4,\n",
    " 'enable_CAR': False,\n",
    " 'output_filtered': False,\n",
    " 'acausal_filter_lag': 120,\n",
    " 'acausal_filter': 'IIR',\n",
    " 'input_name': 'reref_neural',\n",
    " 'input_chan_per_stream': 256,\n",
    " 'input_samp_per_stream': 30,\n",
    " 'input_samp_freq': 30000,\n",
    " 'input_data_type': 'float32',\n",
    " 'use_tracking_id': True,\n",
    " 'timestamp_data_type': 'uint64',\n",
    " 'sync_key': 'sync',\n",
    " 'time_key': 'ts',\n",
    " 'sync_source_id': 'nsp_idx_1',\n",
    " 'thresholds_stream': 'thresholds',\n",
    " 'neural_ch_range': [0, 96],\n",
    " 'thresholds_ch_range': [0, 96],\n",
    " 'n_channels': 96,\n",
    " 'ch_mask_stream': 'z_mask_stream'}\n",
    "\n",
    "node = ThresholdExtraction(params)"
   ]
  },
  {
   "cell_type": "code",
   "execution_count": 13,
   "metadata": {},
   "outputs": [
    {
     "name": "stdout",
     "output_type": "stream",
     "text": [
      "\n",
      "Timing Statistics (in milliseconds):\n",
      "--------------------------------------------------------------------------------\n",
      "Operation                            Mean        Min        Max      Count\n",
      "--------------------------------------------------------------------------------\n",
      "INIT                                1.682      1.682      1.682          1\n",
      "INIT time                           0.105      0.105      0.105          1\n",
      "Redis read                          0.769      0.048      3.278      46357\n",
      "Data parsing                        0.012      0.008      0.327      46357\n",
      "Filtering                           0.133      0.112      0.529      46356\n",
      "Buffer updates                      0.001      0.001      0.276      46356\n",
      "Threshold detection                 0.024      0.017      0.366      46352\n",
      "Redis pipeline                      0.059      0.041      0.478      46352\n",
      "Threshold Extraction                0.999      0.236      3.891      46352\n",
      "Threshold Extraction2               1.000      0.237      5.046      46352\n",
      "Threshold Extraction3               1.000      0.237      3.891      46352\n"
     ]
    },
    {
     "ename": "KeyboardInterrupt",
     "evalue": "",
     "output_type": "error",
     "traceback": [
      "\u001b[0;31m---------------------------------------------------------------------------\u001b[0m",
      "\u001b[0;31mKeyboardInterrupt\u001b[0m                         Traceback (most recent call last)",
      "\u001b[0;32m<ipython-input-13-2e1d716ff0f7>\u001b[0m in \u001b[0;36m<module>\u001b[0;34m\u001b[0m\n\u001b[0;32m----> 1\u001b[0;31m \u001b[0mnode\u001b[0m\u001b[0;34m.\u001b[0m\u001b[0mrun\u001b[0m\u001b[0;34m(\u001b[0m\u001b[0;34m)\u001b[0m\u001b[0;34m\u001b[0m\u001b[0;34m\u001b[0m\u001b[0m\n\u001b[0m",
      "\u001b[0;32m~/Projects/emory-cart/brand-modules/brand-nsp/nodes/thresholdExtraction/thresholdExtractionPranav.py\u001b[0m in \u001b[0;36mrun\u001b[0;34m(self)\u001b[0m\n\u001b[1;32m    557\u001b[0m                                         self.car_groups)\n\u001b[1;32m    558\u001b[0m                     \u001b[0;32melse\u001b[0m\u001b[0;34m:\u001b[0m\u001b[0;34m\u001b[0m\u001b[0;34m\u001b[0m\u001b[0m\n\u001b[0;32m--> 559\u001b[0;31m                         self.filter_func(data_buffer,\n\u001b[0m\u001b[1;32m    560\u001b[0m                                         \u001b[0mfilt_buffer\u001b[0m\u001b[0;34m,\u001b[0m\u001b[0;34m\u001b[0m\u001b[0;34m\u001b[0m\u001b[0m\n\u001b[1;32m    561\u001b[0m                                         \u001b[0mrev_buffer\u001b[0m\u001b[0;34m,\u001b[0m\u001b[0;34m\u001b[0m\u001b[0;34m\u001b[0m\u001b[0m\n",
      "\u001b[0;32m~/Projects/emory-cart/brand-modules/brand-nsp/nodes/thresholdExtraction/thresholdExtractionPranav.py\u001b[0m in \u001b[0;36macausal_filter\u001b[0;34m(data, filt_data, rev_buffer, sos, zi, group_list, rev_win, rev_zi)\u001b[0m\n\u001b[1;32m    761\u001b[0m         \u001b[0;32melse\u001b[0m\u001b[0;34m:\u001b[0m\u001b[0;34m\u001b[0m\u001b[0;34m\u001b[0m\u001b[0m\n\u001b[1;32m    762\u001b[0m             \u001b[0mic\u001b[0m \u001b[0;34m=\u001b[0m \u001b[0mrev_zi\u001b[0m \u001b[0;34m*\u001b[0m \u001b[0mfilt_data\u001b[0m\u001b[0;34m[\u001b[0m\u001b[0;34m:\u001b[0m\u001b[0;34m,\u001b[0m \u001b[0;34m-\u001b[0m\u001b[0;36m1\u001b[0m\u001b[0;34m]\u001b[0m\u001b[0;34m[\u001b[0m\u001b[0;32mNone\u001b[0m\u001b[0;34m,\u001b[0m \u001b[0;34m:\u001b[0m\u001b[0;34m,\u001b[0m \u001b[0;32mNone\u001b[0m\u001b[0;34m]\u001b[0m\u001b[0;34m\u001b[0m\u001b[0;34m\u001b[0m\u001b[0m\n\u001b[0;32m--> 763\u001b[0;31m             filt_data[:, ::-1] = scipy.signal.sosfilt(sos,\n\u001b[0m\u001b[1;32m    764\u001b[0m                                                       \u001b[0mrev_buffer\u001b[0m\u001b[0;34m[\u001b[0m\u001b[0;34m:\u001b[0m\u001b[0;34m,\u001b[0m \u001b[0;34m:\u001b[0m\u001b[0;34m:\u001b[0m\u001b[0;34m-\u001b[0m\u001b[0;36m1\u001b[0m\u001b[0;34m]\u001b[0m\u001b[0;34m,\u001b[0m\u001b[0;34m\u001b[0m\u001b[0;34m\u001b[0m\u001b[0m\n\u001b[1;32m    765\u001b[0m                                                       \u001b[0maxis\u001b[0m\u001b[0;34m=\u001b[0m\u001b[0;36m1\u001b[0m\u001b[0;34m,\u001b[0m\u001b[0;34m\u001b[0m\u001b[0;34m\u001b[0m\u001b[0m\n",
      "\u001b[0;32m~/lib/miniconda3/envs/rt/lib/python3.8/site-packages/scipy/signal/signaltools.py\u001b[0m in \u001b[0;36msosfilt\u001b[0;34m(sos, x, axis, zi)\u001b[0m\n\u001b[1;32m   4028\u001b[0m     \u001b[0mzi\u001b[0m \u001b[0;34m=\u001b[0m \u001b[0mnp\u001b[0m\u001b[0;34m.\u001b[0m\u001b[0mascontiguousarray\u001b[0m\u001b[0;34m(\u001b[0m\u001b[0mnp\u001b[0m\u001b[0;34m.\u001b[0m\u001b[0mreshape\u001b[0m\u001b[0;34m(\u001b[0m\u001b[0mzi\u001b[0m\u001b[0;34m,\u001b[0m \u001b[0;34m(\u001b[0m\u001b[0;34m-\u001b[0m\u001b[0;36m1\u001b[0m\u001b[0;34m,\u001b[0m \u001b[0mn_sections\u001b[0m\u001b[0;34m,\u001b[0m \u001b[0;36m2\u001b[0m\u001b[0;34m)\u001b[0m\u001b[0;34m)\u001b[0m\u001b[0;34m)\u001b[0m\u001b[0;34m\u001b[0m\u001b[0;34m\u001b[0m\u001b[0m\n\u001b[1;32m   4029\u001b[0m     \u001b[0msos\u001b[0m \u001b[0;34m=\u001b[0m \u001b[0msos\u001b[0m\u001b[0;34m.\u001b[0m\u001b[0mastype\u001b[0m\u001b[0;34m(\u001b[0m\u001b[0mdtype\u001b[0m\u001b[0;34m,\u001b[0m \u001b[0mcopy\u001b[0m\u001b[0;34m=\u001b[0m\u001b[0;32mFalse\u001b[0m\u001b[0;34m)\u001b[0m\u001b[0;34m\u001b[0m\u001b[0;34m\u001b[0m\u001b[0m\n\u001b[0;32m-> 4030\u001b[0;31m     \u001b[0m_sosfilt\u001b[0m\u001b[0;34m(\u001b[0m\u001b[0msos\u001b[0m\u001b[0;34m,\u001b[0m \u001b[0mx\u001b[0m\u001b[0;34m,\u001b[0m \u001b[0mzi\u001b[0m\u001b[0;34m)\u001b[0m\u001b[0;34m\u001b[0m\u001b[0;34m\u001b[0m\u001b[0m\n\u001b[0m\u001b[1;32m   4031\u001b[0m     \u001b[0mx\u001b[0m\u001b[0;34m.\u001b[0m\u001b[0mshape\u001b[0m \u001b[0;34m=\u001b[0m \u001b[0mx_shape\u001b[0m\u001b[0;34m\u001b[0m\u001b[0;34m\u001b[0m\u001b[0m\n\u001b[1;32m   4032\u001b[0m     \u001b[0mx\u001b[0m \u001b[0;34m=\u001b[0m \u001b[0mnp\u001b[0m\u001b[0;34m.\u001b[0m\u001b[0mmoveaxis\u001b[0m\u001b[0;34m(\u001b[0m\u001b[0mx\u001b[0m\u001b[0;34m,\u001b[0m \u001b[0;34m-\u001b[0m\u001b[0;36m1\u001b[0m\u001b[0;34m,\u001b[0m \u001b[0maxis\u001b[0m\u001b[0;34m)\u001b[0m\u001b[0;34m\u001b[0m\u001b[0;34m\u001b[0m\u001b[0m\n",
      "\u001b[0;31mKeyboardInterrupt\u001b[0m: "
     ]
    }
   ],
   "source": [
    "node.run()"
   ]
  },
  {
   "cell_type": "code",
   "execution_count": 4,
   "metadata": {},
   "outputs": [
    {
     "data": {
      "image/png": "[encoded data removed]",
      "text/plain": [
       "<Figure size 432x288 with 1 Axes>"
      ]
     },
     "metadata": {
      "needs_background": "light"
     },
     "output_type": "display_data"
    }
   ],
   "source": [
    "\n",
    "\n",
    "_=plt.hist(np.array(node.profiler.timings[\"Threshold Extraction3\"])*1000,100)"
   ]
  },
  {
   "cell_type": "code",
   "execution_count": 10,
   "metadata": {},
   "outputs": [
    {
     "name": "stdout",
     "output_type": "stream",
     "text": [
      "Elapsed time: 0.004270 seconds\n"
     ]
    }
   ],
   "source": [
    "import time\n",
    "\n",
    "start = time.perf_counter()\n",
    "time.sleep(0.004)  # This is more precise than other sleep methods\n",
    "elapsed = time.perf_counter() - start\n",
    "print(f\"Elapsed time: {elapsed:.6f} seconds\")"
   ]
  },
  {
   "cell_type": "code",
   "execution_count": null,
   "metadata": {},
   "outputs": [],
   "source": []
  }
 ],
 "metadata": {
  "kernelspec": {
   "display_name": "Python 3",
   "language": "python",
   "name": "python3"
  },
  "language_info": {
   "codemirror_mode": {
    "name": "ipython",
    "version": 3
   },
   "file_extension": ".py",
   "mimetype": "text/x-python",
   "name": "python",
   "nbconvert_exporter": "python",
   "pygments_lexer": "ipython3",
   "version": "3.8.2"
  }
 },
 "nbformat": 4,
 "nbformat_minor": 4
}
