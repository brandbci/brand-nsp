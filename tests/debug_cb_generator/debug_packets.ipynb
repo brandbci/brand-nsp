{
 "cells": [
  {
   "cell_type": "code",
   "execution_count": null,
   "metadata": {},
   "outputs": [],
   "source": [
    "import redis\n",
    "import json\n",
    "import matplotlib.pyplot as plt\n",
    "import numpy as np\n",
    "import pandas as pd\n",
    "\n",
    "from brand.timing import timespecs_to_timestamps, timevals_to_timestamps"
   ]
  },
  {
   "cell_type": "code",
   "execution_count": null,
   "metadata": {},
   "outputs": [],
   "source": [
    "# connect to Redis\n",
    "# (requires supervisor to be already running at 127.0.0.1:6379,\n",
    "#  modify host/port below if needed)\n",
    "\n",
    "r = redis.Redis(host='127.0.0.1')"
   ]
  },
  {
   "cell_type": "code",
   "execution_count": null,
   "metadata": {},
   "outputs": [],
   "source": [
    "# define cerebusAdapter graph for test (replace with test graph)\n",
    "\n",
    "GRAPH_PATH = \"/home/mrigott/Projects/brand-modules/brand-nsp/tests/test_cerebus_adapt/test_cerebus_adapt.yaml\""
   ]
  },
  {
   "cell_type": "code",
   "execution_count": null,
   "metadata": {},
   "outputs": [],
   "source": [
    "# flush Redis database before test\n",
    "\n",
    "r.flushdb()"
   ]
  },
  {
   "cell_type": "code",
   "execution_count": null,
   "metadata": {},
   "outputs": [],
   "source": [
    "# start graph \n",
    "# (simulator/emit/etc. should already be running)\n",
    "\n",
    "r.xadd('supervisor_ipstream', {\n",
    "    'commands': 'startGraph',\n",
    "    'file': GRAPH_PATH\n",
    "})"
   ]
  },
  {
   "cell_type": "code",
   "execution_count": null,
   "metadata": {},
   "outputs": [],
   "source": [
    "# stop graph \n",
    "# (wait a couple of seconds before running this block to get enough data)\n",
    "\n",
    "r.xadd('supervisor_ipstream', {'commands': 'stopGraph'})"
   ]
  },
  {
   "cell_type": "code",
   "execution_count": null,
   "metadata": {},
   "outputs": [],
   "source": [
    "# check that continuousNeural stream key exists\n",
    "\n",
    "r.keys('*')"
   ]
  },
  {
   "cell_type": "code",
   "execution_count": null,
   "metadata": {},
   "outputs": [],
   "source": [
    "\n",
    "# check that there are samples in the stream\n",
    "\n",
    "streams = ['continuousNeural']\n",
    "msg = 'Stream Info'\n",
    "print(msg + '\\n' + '-' * len(msg))\n",
    "for stream in streams:\n",
    "    n_entries = r.xlen(stream)\n",
    "    if n_entries > 0:\n",
    "        entry_dict = r.xrevrange(stream, count=1)[0][1]\n",
    "        has_sync = True if b'sync' in entry_dict else False\n",
    "        if has_sync:\n",
    "            entry_dict\n",
    "    else:\n",
    "        has_sync = False\n",
    "\n",
    "    row = f'{stream :24s}: {n_entries :6d}'\n",
    "    if has_sync:\n",
    "        row += f\"\\tsync={json.loads(entry_dict[b'sync'])}\"\n",
    "    else:\n",
    "        row += '\\tsync=None'\n",
    "    print(row)"
   ]
  },
  {
   "cell_type": "code",
   "execution_count": null,
   "metadata": {},
   "outputs": [],
   "source": [
    "# utility function\n",
    "\n",
    "def scalarfrombuffer(*args, **kwargs):\n",
    "    return np.frombuffer(*args, **kwargs)[0]\n",
    "\n",
    "samp_per_packet = 30\n",
    "\n",
    "# build dataframe with neural data\n",
    "\n",
    "stream = 'continuousNeural'\n",
    "entries = r.xrange(stream)\n",
    "data = [None] * len(entries)\n",
    "for i, (_, entry_data) in enumerate(entries):\n",
    "    data[i] = {\n",
    "        f: entry_data[f.encode()]\n",
    "        for f in ['timestamps', 'BRANDS_time']\n",
    "    }\n",
    "    brands_time = (\n",
    "        np.array(timespecs_to_timestamps(entry_data[b'BRANDS_time'])) *\n",
    "        1e9).astype(np.uint64)\n",
    "    udp_time = (np.array(timevals_to_timestamps(entry_data[b'udp_recv_time'])) *\n",
    "                1e9).astype(np.uint64)\n",
    "    nsp_idx = np.frombuffer(entry_data[b'timestamps'], dtype=np.uint32)\n",
    "    samples = np.frombuffer(entry_data[b'samples'], dtype=np.int16).reshape((-1,samp_per_packet)).T\n",
    "    data[i] = {\n",
    "        'ts': brands_time[-1],\n",
    "        'sync': nsp_idx[0],\n",
    "        'udp_in': udp_time[-1],\n",
    "        'samples': samples,\n",
    "        'timestamps': nsp_idx,\n",
    "    }\n",
    "df = pd.DataFrame(data)\n",
    "print(df)\n",
    "\n",
    "# print ISI for cerebusAdapter data\n",
    "\n",
    "isi = df['ts'].diff()[1:].values / 1e6\n",
    "print(f'cerebusAdapter ISI: {isi.mean()} +- {isi.std()}'\n",
    "      f' ({isi.min()} - {isi.max()})')"
   ]
  },
  {
   "cell_type": "code",
   "execution_count": null,
   "metadata": {},
   "outputs": [],
   "source": [
    "# stack stream entries to build array with all continuous data\n",
    "\n",
    "cont_data = np.vstack(df.samples.values).T\n",
    "print(cont_data.shape)\n",
    "print(cont_data)"
   ]
  },
  {
   "cell_type": "code",
   "execution_count": null,
   "metadata": {},
   "outputs": [],
   "source": [
    "# plot continuous data\n",
    "\n",
    "n_channels = 30\n",
    "trange = slice(0, 30 * 100000)\n",
    "\n",
    "fig, axes = plt.subplots(ncols=1,\n",
    "                         nrows=n_channels,\n",
    "                         figsize=(10, n_channels * 2),\n",
    "                         sharey=False,\n",
    "                         sharex=True)\n",
    "for ich in range(n_channels):\n",
    "    ax = axes.flat[ich]\n",
    "    ax.plot(cont_data[ich, trange])\n",
    "    ax.set_title(f'Ch {ich}')"
   ]
  }
 ],
 "metadata": {
  "kernelspec": {
   "display_name": "Python 3.8.13 ('rt': conda)",
   "language": "python",
   "name": "python3"
  },
  "language_info": {
   "codemirror_mode": {
    "name": "ipython",
    "version": 3
   },
   "file_extension": ".py",
   "mimetype": "text/x-python",
   "name": "python",
   "nbconvert_exporter": "python",
   "pygments_lexer": "ipython3",
   "version": "3.8.13"
  },
  "vscode": {
   "interpreter": {
    "hash": "2d2128b57a97265db2d26af59885552af5b27103cf6f1a22713256a0616a427a"
   }
  }
 },
 "nbformat": 4,
 "nbformat_minor": 2
}
