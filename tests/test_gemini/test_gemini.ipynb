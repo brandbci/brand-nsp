{
 "cells": [
  {
   "cell_type": "code",
   "execution_count": null,
   "metadata": {},
   "outputs": [],
   "source": [
    "# %% \n",
    "# Imports\n",
    "\n",
    "import os\n",
    "import redis\n",
    "import json\n",
    "import matplotlib.pyplot as plt\n",
    "import numpy as np\n",
    "import pandas as pd\n",
    "import subprocess\n",
    "import time\n",
    "\n",
    "from brand.timing import timespec_to_timestamp, timeval_to_timestamp"
   ]
  },
  {
   "cell_type": "code",
   "execution_count": null,
   "metadata": {},
   "outputs": [],
   "source": [
    "# %% \n",
    "# Start Redis \n",
    "\n",
    "SAVE_DIR = '/samba/data/sim/2023-11-17/RawData'\n",
    "RDB_DIR = os.path.join(SAVE_DIR,'RDB')\n",
    "RDB_FILENAME = 'sim_231117_012.rdb'\n",
    "REDIS_IP = '127.0.0.1'\n",
    "REDIS_PORT = 18000\n",
    "\n",
    "redis_command = ['/home/snel/Projects/emory-cart/brand/bin/redis-server', '--bind', REDIS_IP, '--port', str(REDIS_PORT)]\n",
    "redis_command.append('--dbfilename')\n",
    "redis_command.append(RDB_FILENAME)\n",
    "redis_command.append('--dir')\n",
    "redis_command.append(RDB_DIR)\n",
    "\n",
    "print('Starting redis: ' + ' '.join(redis_command))\n",
    "\n",
    "proc = subprocess.Popen(redis_command, stdout=subprocess.PIPE)\n",
    "redis_pid = proc.pid\n",
    "\n",
    "try:\n",
    "    out, _ = proc.communicate(timeout=1)\n",
    "    if out:\n",
    "        print(out.decode())\n",
    "    if 'Address already in use' in str(out):\n",
    "        print(\"Could not run redis-server (address already in use). Check if a Redis server is already running on that port. Aborting.\")\n",
    "        exit(1)\n",
    "    else:\n",
    "        print(\"Launching redis-server failed for an unknown reason, check supervisor logs. Aborting.\")\n",
    "        exit(1)\n",
    "except subprocess.TimeoutExpired:  # no error message received\n",
    "    print('Redis-server is running.')\n",
    "\n",
    "r = redis.Redis(host=REDIS_IP, port=REDIS_PORT)\n",
    "\n",
    "busy_loading = True\n",
    "while busy_loading:\n",
    "    try:\n",
    "        print(f\"Streams in database: {r.keys('*')}\")\n",
    "        busy_loading = False\n",
    "    except redis.exceptions.BusyLoadingError:\n",
    "        print('Redis is busy loading dataset in memory')\n",
    "        time.sleep(1)"
   ]
  },
  {
   "cell_type": "code",
   "execution_count": null,
   "metadata": {},
   "outputs": [],
   "source": [
    "streams = ['nsp_neural', 'thresh_cross_1', 'sbp_1', 'binned_spikes']\n",
    "msg = 'Stream Info'\n",
    "print(msg + '\\n' + '-' * len(msg))\n",
    "for stream in streams:\n",
    "    n_entries = r.xlen(stream)\n",
    "    if n_entries > 0:\n",
    "        entry_dict = r.xrevrange(stream, count=1)[0][1]\n",
    "        has_sync = True if b'sync' in entry_dict else False\n",
    "        if has_sync:\n",
    "            entry_dict\n",
    "    else:\n",
    "        has_sync = False\n",
    "\n",
    "    row = f'{stream :24s}: {n_entries :6d}'\n",
    "    if has_sync:\n",
    "        row += f\"\\tsync={json.loads(entry_dict[b'sync'])}\"\n",
    "    else:\n",
    "        row += '\\tsync=None'\n",
    "    print(row)"
   ]
  },
  {
   "cell_type": "code",
   "execution_count": null,
   "metadata": {},
   "outputs": [],
   "source": [
    "# utility function\n",
    "\n",
    "def scalarfrombuffer(*args, **kwargs):\n",
    "    return np.frombuffer(*args, **kwargs)[0]\n",
    "\n",
    "samp_per_packet = 30\n",
    "\n",
    "# build dataframe with neural data\n",
    "\n",
    "stream = 'nsp_neural'\n",
    "entries = r.xrange(stream)\n",
    "data = [None] * len(entries)\n",
    "for i, (_, entry_data) in enumerate(entries):\n",
    "    data[i] = {\n",
    "        f: entry_data[f.encode()]\n",
    "        for f in ['timestamps', 'BRANDS_time']\n",
    "    }\n",
    "    brands_time = (\n",
    "        np.array(timespec_to_timestamp(entry_data[b'BRANDS_time'])) *\n",
    "        1e9).astype(np.uint64)\n",
    "    udp_time = (np.array(timeval_to_timestamp(entry_data[b'udp_recv_time'])) *\n",
    "                1e9).astype(np.uint64)\n",
    "    nsp_idx = np.frombuffer(entry_data[b'timestamps'], dtype=np.uint64)\n",
    "    # samples = np.frombuffer(entry_data[b'samples'], dtype=np.int16).reshape((-1,samp_per_packet)).T\n",
    "    samples = np.reshape(np.frombuffer(entry_data[b'samples'], dtype=np.int16),(samp_per_packet, -1))\n",
    "    data[i] = {\n",
    "        'ts': brands_time,\n",
    "        'sync': nsp_idx[0],\n",
    "        'sync_all': nsp_idx,\n",
    "        'udp_in': udp_time,\n",
    "        'samples': samples,\n",
    "        'timestamps': nsp_idx,\n",
    "    }\n",
    "df_ca = pd.DataFrame(data)\n",
    "df_ca.set_index('sync',inplace=True,drop=True)\n",
    "print(df_ca)\n",
    "\n"
   ]
  },
  {
   "cell_type": "code",
   "execution_count": null,
   "metadata": {},
   "outputs": [],
   "source": [
    "# print ISI for cerebusAdapter data\n",
    "\n",
    "isi = np.diff(df_ca.index.values) / 1e6\n",
    "print(f'cerebusAdapter (sync)   ISI: {isi.mean():2.4f} +- {isi.std():2.4f}'\n",
    "      f' ({isi.min():2.4f} - {isi.max():2.4f}) ms')\n",
    "\n",
    "isi = df_ca['ts'].diff()[1:].values / 1e6\n",
    "print(f'cerebusAdapter (ts)     ISI: {isi.mean():2.4f} +- {isi.std():2.4f}'\n",
    "      f' ({isi.min():2.4f} - {isi.max():2.4f}) ms')\n",
    "\n",
    "isi = df_ca['udp_in'].diff()[1:].values / 1e6\n",
    "print(f'cerebusAdapter (udp ts) ISI: {isi.mean():2.4f} +- {isi.std():2.4f}'\n",
    "      f' ({isi.min():2.4f} - {isi.max():2.4f}) ms')"
   ]
  },
  {
   "cell_type": "code",
   "execution_count": null,
   "metadata": {},
   "outputs": [],
   "source": [
    "# stack stream entries to build array with all continuous data\n",
    "\n",
    "cont_data = np.vstack(df_ca.samples.values)\n",
    "print(cont_data.shape)\n",
    "\n",
    "# plot continuous data\n",
    "\n",
    "crange = np.arange(90,100,1)\n",
    "n_channels = crange.shape[0]\n",
    "trange = slice(0, 30 * 1000)\n",
    "\n",
    "fig, axes = plt.subplots(ncols=1,\n",
    "                         nrows=n_channels,\n",
    "                         figsize=(10, n_channels * 2),\n",
    "                         sharey=False,\n",
    "                         sharex=True,\n",
    "                         facecolor='w')\n",
    "for ich, ch in enumerate(crange):\n",
    "    ax = axes.flat[ich]\n",
    "    ax.plot(cont_data[trange, ch])\n",
    "    ax.set_title(f'Ch {ch}')"
   ]
  },
  {
   "cell_type": "code",
   "execution_count": null,
   "metadata": {},
   "outputs": [],
   "source": [
    "stream = 'thresh_cross_1'\n",
    "entries = r.xrange(stream)\n",
    "data = [None] * len(entries)\n",
    "for i, (_, entry_data) in enumerate(entries):\n",
    "    data[i] = {\n",
    "        f: entry_data[f.encode()]\n",
    "        for f in ['timestamps']\n",
    "    }\n",
    "    ts = np.frombuffer(entry_data[b'ts'], dtype=np.uint64)[0]\n",
    "    nsp_idx = np.frombuffer(entry_data[b'timestamps'], dtype=np.uint64)[0]\n",
    "    # samples = np.frombuffer(entry_data[b'samples'], dtype=np.int16).reshape((-1,samp_per_packet)).T\n",
    "    samples = np.frombuffer(entry_data[b'crossings'], dtype=np.int16),(-1, samp_per_packet)\n",
    "    data[i] = {\n",
    "        'ts': ts,\n",
    "        'sync': nsp_idx,\n",
    "        'samples': samples,\n",
    "    }\n",
    "df_tc = pd.DataFrame(data)\n",
    "df_tc.set_index('sync',inplace=True,drop=True)\n",
    "print(df_tc)"
   ]
  },
  {
   "cell_type": "code",
   "execution_count": null,
   "metadata": {},
   "outputs": [],
   "source": [
    "# print ISI for threshold_crossings data\n",
    "\n",
    "isi = np.diff(df_tc.index.values) / 1e6\n",
    "print(f'thresh_cross (sync)   ISI: {isi.mean()} +- {isi.std()}'\n",
    "      f' ({isi.min()} - {isi.max()}) ms')\n",
    "\n",
    "isi = df_tc['ts'].diff()[1:].values / 1e6\n",
    "print(f'thresh_cross (ts)     ISI: {isi.mean()} +- {isi.std()}'\n",
    "      f' ({isi.min()} - {isi.max()}) ms')"
   ]
  },
  {
   "cell_type": "code",
   "execution_count": null,
   "metadata": {},
   "outputs": [],
   "source": [
    "df = df_ca.join(df_tc, lsuffix='_ca', rsuffix='_tc')\n",
    "df.dropna(inplace=True)\n",
    "print(df.columns)\n",
    "print(df[['ts_tc', 'ts_ca']])"
   ]
  },
  {
   "cell_type": "code",
   "execution_count": null,
   "metadata": {},
   "outputs": [],
   "source": [
    "latency_tc = df['ts_tc'] - df['ts_ca']\n",
    "\n",
    "plt.plot(latency_tc / 1e6)\n",
    "plt.show()"
   ]
  },
  {
   "cell_type": "code",
   "execution_count": null,
   "metadata": {},
   "outputs": [],
   "source": [
    "plt.plot(df['ts_ca'].diff()[1:].values / 1e6)\n",
    "plt.show()"
   ]
  },
  {
   "cell_type": "code",
   "execution_count": null,
   "metadata": {},
   "outputs": [],
   "source": [
    "r.shutdown(nosave=True)"
   ]
  }
 ],
 "metadata": {
  "kernelspec": {
   "display_name": "rt",
   "language": "python",
   "name": "python3"
  },
  "language_info": {
   "codemirror_mode": {
    "name": "ipython",
    "version": 3
   },
   "file_extension": ".py",
   "mimetype": "text/x-python",
   "name": "python",
   "nbconvert_exporter": "python",
   "pygments_lexer": "ipython3",
   "version": "3.8.2"
  },
  "orig_nbformat": 4
 },
 "nbformat": 4,
 "nbformat_minor": 2
}
